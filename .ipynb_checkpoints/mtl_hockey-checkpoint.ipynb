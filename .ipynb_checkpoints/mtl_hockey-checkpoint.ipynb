{
 "cells": [
  {
   "cell_type": "markdown",
   "metadata": {
    "deletable": true,
    "editable": true
   },
   "source": [
    "##montreal canadiens and bar business\n",
    "\n",
    "got data from https://en.wikipedia.org/wiki/List_of_Montreal_Canadiens_seasons\n",
    "\n",
    "\n",
    "\n",
    "\n",
    "season date of 1969 means the one from 1968 to 1969"
   ]
  },
  {
   "cell_type": "code",
   "execution_count": 1,
   "metadata": {
    "collapsed": false,
    "deletable": true,
    "editable": true
   },
   "outputs": [],
   "source": [
    "\n",
    "import pandas as pd\n",
    "import numpy as np\n",
    "import statsmodels.formula.api as smf\n",
    "import seaborn as sns\n",
    "import matplotlib.pyplot as plt\n",
    "from myscripts import *\n",
    "\n",
    "hockey_data=pd.read_csv('mtl_hockey.csv',usecols=['nhl season','W','T','OT','GF','GA','L'],index_col=\"nhl season\",parse_dates=True)\n",
    "plt.style.use(\"seaborn\")\n",
    "%matplotlib inline\n",
    "\n",
    "monthly_window=24\n",
    "yearly_window=2\n",
    "\n",
    "\n",
    "def calculate_std(df):\n",
    "    return True\n",
    "\n"
   ]
  },
  {
   "cell_type": "code",
   "execution_count": 2,
   "metadata": {
    "collapsed": false,
    "deletable": true,
    "editable": true
   },
   "outputs": [
    {
     "data": {
      "text/html": [
       "<div>\n",
       "<table border=\"1\" class=\"dataframe\">\n",
       "  <thead>\n",
       "    <tr style=\"text-align: right;\">\n",
       "      <th></th>\n",
       "      <th>W</th>\n",
       "      <th>L</th>\n",
       "      <th>T</th>\n",
       "      <th>OT</th>\n",
       "      <th>GF</th>\n",
       "      <th>GA</th>\n",
       "    </tr>\n",
       "    <tr>\n",
       "      <th>nhl season</th>\n",
       "      <th></th>\n",
       "      <th></th>\n",
       "      <th></th>\n",
       "      <th></th>\n",
       "      <th></th>\n",
       "      <th></th>\n",
       "    </tr>\n",
       "  </thead>\n",
       "  <tbody>\n",
       "    <tr>\n",
       "      <th>1969-01-01</th>\n",
       "      <td>46</td>\n",
       "      <td>19</td>\n",
       "      <td>11</td>\n",
       "      <td>—</td>\n",
       "      <td>271</td>\n",
       "      <td>202</td>\n",
       "    </tr>\n",
       "    <tr>\n",
       "      <th>1970-01-01</th>\n",
       "      <td>38</td>\n",
       "      <td>22</td>\n",
       "      <td>16</td>\n",
       "      <td>—</td>\n",
       "      <td>244</td>\n",
       "      <td>201</td>\n",
       "    </tr>\n",
       "    <tr>\n",
       "      <th>1971-01-01</th>\n",
       "      <td>42</td>\n",
       "      <td>23</td>\n",
       "      <td>13</td>\n",
       "      <td>—</td>\n",
       "      <td>291</td>\n",
       "      <td>216</td>\n",
       "    </tr>\n",
       "    <tr>\n",
       "      <th>1972-01-01</th>\n",
       "      <td>46</td>\n",
       "      <td>16</td>\n",
       "      <td>16</td>\n",
       "      <td>—</td>\n",
       "      <td>307</td>\n",
       "      <td>205</td>\n",
       "    </tr>\n",
       "    <tr>\n",
       "      <th>1973-01-01</th>\n",
       "      <td>52</td>\n",
       "      <td>10</td>\n",
       "      <td>16</td>\n",
       "      <td>—</td>\n",
       "      <td>329</td>\n",
       "      <td>184</td>\n",
       "    </tr>\n",
       "  </tbody>\n",
       "</table>\n",
       "</div>"
      ],
      "text/plain": [
       "             W   L   T OT   GF   GA\n",
       "nhl season                         \n",
       "1969-01-01  46  19  11  —  271  202\n",
       "1970-01-01  38  22  16  —  244  201\n",
       "1971-01-01  42  23  13  —  291  216\n",
       "1972-01-01  46  16  16  —  307  205\n",
       "1973-01-01  52  10  16  —  329  184"
      ]
     },
     "execution_count": 2,
     "metadata": {},
     "output_type": "execute_result"
    }
   ],
   "source": [
    "hockey_data.head()\n",
    "\n"
   ]
  },
  {
   "cell_type": "code",
   "execution_count": 3,
   "metadata": {
    "collapsed": false,
    "deletable": true,
    "editable": true
   },
   "outputs": [],
   "source": [
    "\n",
    "hockey_data.W=hockey_data.W.astype(str).str.replace(\"—\",\"0\").astype(int)\n",
    "hockey_data.L=hockey_data.L.astype(str).str.replace(\"—\",\"0\").astype(int)\n",
    "hockey_data['T']=hockey_data['T'].astype(str).str.replace(\"—\",\"0\").astype(int)\n",
    "\n",
    "hockey_data.GF=hockey_data.GF.astype(str).str.replace(\"—\",\"0\").astype(int)\n",
    "hockey_data.GA=hockey_data.GA.astype(str).str.replace(\"—\",\"0\").astype(int)\n",
    "hockey_data.OT=hockey_data.OT.astype(str).str.replace(\"—\",\"0\").astype(int)\n",
    "\n",
    "\n"
   ]
  },
  {
   "cell_type": "code",
   "execution_count": 4,
   "metadata": {
    "collapsed": false,
    "deletable": true,
    "editable": true
   },
   "outputs": [
    {
     "data": {
      "text/plain": [
       "Index(['W', 'L', 'T', 'OT', 'GF', 'GA'], dtype='object')"
      ]
     },
     "execution_count": 4,
     "metadata": {},
     "output_type": "execute_result"
    }
   ],
   "source": [
    "#dropping this due to the hockey lockout\n",
    "hockey_data=hockey_data[hockey_data.index.year!=2005]\n",
    "\n",
    "hockey_data.columns"
   ]
  },
  {
   "cell_type": "code",
   "execution_count": 5,
   "metadata": {
    "collapsed": false,
    "deletable": true,
    "editable": true
   },
   "outputs": [],
   "source": [
    "hockey_data=create_stats(hockey_data,yearly_window)"
   ]
  },
  {
   "cell_type": "markdown",
   "metadata": {
    "collapsed": false,
    "deletable": true,
    "editable": true
   },
   "source": [
    "for each_col_name in hockey_data.columns:\n",
    "    hockey_data[each_col_name+\"RollingMean\"]=hockey_data[each_col_name].rolling(window=yearly_window).mean()\n",
    "    hockey_data[each_col_name+\"RollingStd\"]=hockey_data[each_col_name].rolling(window=yearly_window).std()\n",
    "    hockey_data[each_col_name+\"RelAvg\"]=(hockey_data[each_col_name]/hockey_data[each_col_name+\"RollingMean\"])-1\n",
    "    hockey_data[each_col_name+\"Std\"]=(hockey_data[each_col_name]-hockey_data[each_col_name+\"RollingMean\"])/hockey_data[each_col_name+\"RollingStd\"]\n",
    "\n",
    "hockey_data=hockey_data.ix[yearly_window-1:];\n",
    "hockey_data.fillna(0);"
   ]
  },
  {
   "cell_type": "code",
   "execution_count": 6,
   "metadata": {
    "collapsed": false,
    "deletable": true,
    "editable": true
   },
   "outputs": [
    {
     "data": {
      "text/plain": [
       "<matplotlib.axes._subplots.AxesSubplot at 0x24e34e1bf98>"
      ]
     },
     "execution_count": 6,
     "metadata": {},
     "output_type": "execute_result"
    },
    {
     "data": {
      "image/png": "[encoded data removed]",
      "text/plain": [
       "<matplotlib.figure.Figure at 0x24e316d7278>"
      ]
     },
     "metadata": {},
     "output_type": "display_data"
    }
   ],
   "source": [
    "hockey_data.W.plot()"
   ]
  },
  {
   "cell_type": "code",
   "execution_count": 7,
   "metadata": {
    "collapsed": false,
    "deletable": true,
    "editable": true
   },
   "outputs": [
    {
     "data": {
      "text/plain": [
       "<matplotlib.axes._subplots.AxesSubplot at 0x24e34ea0160>"
      ]
     },
     "execution_count": 7,
     "metadata": {},
     "output_type": "execute_result"
    },
    {
     "data": {
      "image/png": "[encoded data removed]",
      "text/plain": [
       "<matplotlib.figure.Figure at 0x24e34f068d0>"
      ]
     },
     "metadata": {},
     "output_type": "display_data"
    }
   ],
   "source": [
    "hockey_data.W.hist()"
   ]
  },
  {
   "cell_type": "code",
   "execution_count": 8,
   "metadata": {
    "collapsed": false,
    "deletable": true,
    "editable": true
   },
   "outputs": [],
   "source": [
    "#If I want to just refer to it on my computer\n",
    "my_file = \"bars_quebec.csv\"\n",
    "business_data=pd.read_csv(my_file,index_col='dates',usecols=['dates','Taverns'],parse_dates=True)"
   ]
  },
  {
   "cell_type": "code",
   "execution_count": 9,
   "metadata": {
    "collapsed": false,
    "deletable": true,
    "editable": true
   },
   "outputs": [],
   "source": [
    "business_data.columns=['bars']"
   ]
  },
  {
   "cell_type": "code",
   "execution_count": 10,
   "metadata": {
    "collapsed": false,
    "deletable": true,
    "editable": true
   },
   "outputs": [
    {
     "data": {
      "text/html": [
       "<div>\n",
       "<table border=\"1\" class=\"dataframe\">\n",
       "  <thead>\n",
       "    <tr style=\"text-align: right;\">\n",
       "      <th></th>\n",
       "      <th>bars</th>\n",
       "    </tr>\n",
       "    <tr>\n",
       "      <th>dates</th>\n",
       "      <th></th>\n",
       "    </tr>\n",
       "  </thead>\n",
       "  <tbody>\n",
       "    <tr>\n",
       "      <th>1981-08-01</th>\n",
       "      <td>22810.2</td>\n",
       "    </tr>\n",
       "    <tr>\n",
       "      <th>1981-09-01</th>\n",
       "      <td>21992.5</td>\n",
       "    </tr>\n",
       "    <tr>\n",
       "      <th>1981-10-01</th>\n",
       "      <td>24665.3</td>\n",
       "    </tr>\n",
       "    <tr>\n",
       "      <th>1981-11-01</th>\n",
       "      <td>22931.1</td>\n",
       "    </tr>\n",
       "    <tr>\n",
       "      <th>1981-12-01</th>\n",
       "      <td>24403.8</td>\n",
       "    </tr>\n",
       "  </tbody>\n",
       "</table>\n",
       "</div>"
      ],
      "text/plain": [
       "               bars\n",
       "dates              \n",
       "1981-08-01  22810.2\n",
       "1981-09-01  21992.5\n",
       "1981-10-01  24665.3\n",
       "1981-11-01  22931.1\n",
       "1981-12-01  24403.8"
      ]
     },
     "execution_count": 10,
     "metadata": {},
     "output_type": "execute_result"
    }
   ],
   "source": [
    "business_data.head()"
   ]
  },
  {
   "cell_type": "code",
   "execution_count": 11,
   "metadata": {
    "collapsed": false,
    "deletable": true,
    "editable": true
   },
   "outputs": [
    {
     "data": {
      "text/plain": [
       "DatetimeIndex(['1981-08-01', '1981-09-01', '1981-10-01', '1981-11-01',\n",
       "               '1981-12-01', '1982-01-01', '1982-02-01', '1982-03-01',\n",
       "               '1982-04-01', '1982-05-01',\n",
       "               ...\n",
       "               '1997-03-01', '1997-04-01', '1997-05-01', '1997-06-01',\n",
       "               '1997-07-01', '1997-08-01', '1997-09-01', '1997-10-01',\n",
       "               '1997-11-01', '1997-12-01'],\n",
       "              dtype='datetime64[ns]', name='dates', length=197, freq=None)"
      ]
     },
     "execution_count": 11,
     "metadata": {},
     "output_type": "execute_result"
    }
   ],
   "source": [
    "business_data.index.unique()"
   ]
  },
  {
   "cell_type": "code",
   "execution_count": 12,
   "metadata": {
    "collapsed": false,
    "deletable": true,
    "editable": true
   },
   "outputs": [
    {
     "data": {
      "text/plain": [
       "<matplotlib.axes._subplots.AxesSubplot at 0x24e350bd9e8>"
      ]
     },
     "execution_count": 12,
     "metadata": {},
     "output_type": "execute_result"
    },
    {
     "data": {
      "image/png": "[encoded data removed]",
      "text/plain": [
       "<matplotlib.figure.Figure at 0x24e35043cc0>"
      ]
     },
     "metadata": {},
     "output_type": "display_data"
    }
   ],
   "source": [
    "#seems to be cyclical\n",
    "business_data.bars.plot()\n"
   ]
  },
  {
   "cell_type": "code",
   "execution_count": 13,
   "metadata": {
    "collapsed": false,
    "deletable": true,
    "editable": true
   },
   "outputs": [
    {
     "data": {
      "image/png": "[encoded data removed]",
      "text/plain": [
       "<matplotlib.figure.Figure at 0x24e350fb828>"
      ]
     },
     "metadata": {},
     "output_type": "display_data"
    }
   ],
   "source": [
    "#dayofweek\n",
    "business_data.bars.groupby(business_data.index.month).mean().plot();"
   ]
  },
  {
   "cell_type": "code",
   "execution_count": 14,
   "metadata": {
    "collapsed": false,
    "deletable": true,
    "editable": true
   },
   "outputs": [
    {
     "data": {
      "image/png": "[encoded data removed]",
      "text/plain": [
       "<matplotlib.figure.Figure at 0x24e36555710>"
      ]
     },
     "metadata": {},
     "output_type": "display_data"
    }
   ],
   "source": [
    "business_data.bars.groupby(business_data.index.dayofweek).mean().plot(); #thursday seems to be the best day?"
   ]
  },
  {
   "cell_type": "code",
   "execution_count": 15,
   "metadata": {
    "collapsed": false,
    "deletable": true,
    "editable": true
   },
   "outputs": [],
   "source": [
    "business_data=create_stats(business_data[[\"bars\"]],monthly_window)\n",
    "\n"
   ]
  },
  {
   "cell_type": "code",
   "execution_count": 16,
   "metadata": {
    "collapsed": false,
    "deletable": true,
    "editable": true
   },
   "outputs": [
    {
     "data": {
      "text/plain": [
       "Index(['bars', 'barsRollingMean', 'barsRollingStd', 'barsRelAvg', 'barsStd'], dtype='object')"
      ]
     },
     "execution_count": 16,
     "metadata": {},
     "output_type": "execute_result"
    }
   ],
   "source": [
    "business_data.columns"
   ]
  },
  {
   "cell_type": "code",
   "execution_count": 17,
   "metadata": {
    "collapsed": true,
    "deletable": true,
    "editable": true
   },
   "outputs": [],
   "source": [
    "business_data.to_csv(\"bars_quebec_refined.csv\")\n"
   ]
  },
  {
   "cell_type": "code",
   "execution_count": 18,
   "metadata": {
    "collapsed": false,
    "deletable": true,
    "editable": true
   },
   "outputs": [
    {
     "data": {
      "text/plain": [
       "<matplotlib.axes._subplots.AxesSubplot at 0x24e34f06358>"
      ]
     },
     "execution_count": 18,
     "metadata": {},
     "output_type": "execute_result"
    },
    {
     "data": {
      "image/png": "[encoded data removed]",
      "text/plain": [
       "<matplotlib.figure.Figure at 0x24e365f0588>"
      ]
     },
     "metadata": {},
     "output_type": "display_data"
    }
   ],
   "source": [
    "#how bars did (standard deviations)\n",
    "business_data.barsRelAvg.plot()\n"
   ]
  },
  {
   "cell_type": "code",
   "execution_count": 19,
   "metadata": {
    "collapsed": false,
    "deletable": true,
    "editable": true
   },
   "outputs": [
    {
     "data": {
      "text/plain": [
       "<matplotlib.axes._subplots.AxesSubplot at 0x24e350e8d30>"
      ]
     },
     "execution_count": 19,
     "metadata": {},
     "output_type": "execute_result"
    },
    {
     "data": {
      "image/png": "[encoded data removed]",
      "text/plain": [
       "<matplotlib.figure.Figure at 0x24e366c75f8>"
      ]
     },
     "metadata": {},
     "output_type": "display_data"
    }
   ],
   "source": [
    "business_data.barsRelAvg.hist()\n"
   ]
  },
  {
   "cell_type": "code",
   "execution_count": 20,
   "metadata": {
    "collapsed": false,
    "deletable": true,
    "editable": true
   },
   "outputs": [],
   "source": [
    "#season starts in october\n",
    "\n",
    "hockey_months=[10,11,12,1,2,3,4]\n"
   ]
  },
  {
   "cell_type": "code",
   "execution_count": 21,
   "metadata": {
    "collapsed": false,
    "deletable": true,
    "editable": true
   },
   "outputs": [],
   "source": [
    "\n",
    "#GROUPING BY HOCKEY SEASON\n",
    "def group_by_season(df,months_to_keep):\n",
    "    month_indexes=pd.Series(business_data.index.month).isin(months_to_keep).values\n",
    "    df=df[month_indexes]\n",
    "    df=df.resample(\"6M\").sum()\n",
    "    temp_df=df.reset_index() \n",
    "    dates_to_keep=df.index[temp_df.index %2==1]\n",
    "    temp_group = temp_df.groupby(temp_df.index // 2)\n",
    "    temp_group=temp_group.sum()\n",
    "    df=temp_group.set_index(dates_to_keep)\n",
    "    return df\n",
    "\n",
    "\n",
    "hockey_season_business_data=group_by_season(business_data,hockey_months)\n",
    "\n",
    "\n",
    "\n",
    "\n"
   ]
  },
  {
   "cell_type": "code",
   "execution_count": 22,
   "metadata": {
    "collapsed": false,
    "deletable": true,
    "editable": true
   },
   "outputs": [
    {
     "data": {
      "text/plain": [
       "<matplotlib.axes._subplots.AxesSubplot at 0x24e3663c2b0>"
      ]
     },
     "execution_count": 22,
     "metadata": {},
     "output_type": "execute_result"
    },
    {
     "data": {
      "image/png": "[encoded data removed]",
      "text/plain": [
       "<matplotlib.figure.Figure at 0x24e366f9898>"
      ]
     },
     "metadata": {},
     "output_type": "display_data"
    }
   ],
   "source": [
    "hockey_season_business_data.plot()\n",
    "\n"
   ]
  },
  {
   "cell_type": "code",
   "execution_count": 23,
   "metadata": {
    "collapsed": false,
    "deletable": true,
    "editable": true,
    "scrolled": true
   },
   "outputs": [],
   "source": [
    "years_in_common=np.intersect1d(hockey_season_business_data.index.year, hockey_data.index.year)\n",
    "\n",
    "#FOR SURE THERE'S A MORE EFFICIENT WAY\n",
    "list_of_indexes=[]\n",
    "for each_year in years_in_common:\n",
    "     list_of_indexes.append(list(hockey_data.index.year).index(each_year))\n",
    "\n",
    "smaller_hockey_df=hockey_data.iloc[list_of_indexes,:]\n",
    "\n",
    "#THIS MIGHT LEAD TO BAD INFO\n",
    "smaller_hockey_df.index=smaller_hockey_df.index.year\n",
    "hockey_season_business_data.index=hockey_season_business_data.index.year\n"
   ]
  },
  {
   "cell_type": "code",
   "execution_count": 24,
   "metadata": {
    "collapsed": false,
    "deletable": true,
    "editable": true
   },
   "outputs": [
    {
     "data": {
      "text/plain": [
       "DatetimeIndex(['1970-01-01', '1971-01-01', '1972-01-01', '1973-01-01',\n",
       "               '1974-01-01', '1975-01-01', '1976-01-01', '1977-01-01',\n",
       "               '1978-01-01', '1979-01-01', '1980-01-01', '1981-01-01',\n",
       "               '1982-01-01', '1983-01-01', '1984-01-01', '1985-01-01',\n",
       "               '1986-01-01', '1987-01-01', '1988-01-01', '1989-01-01',\n",
       "               '1990-01-01', '1991-01-01', '1992-01-01', '1993-01-01',\n",
       "               '1994-01-01', '1995-01-01', '1996-01-01', '1997-01-01',\n",
       "               '1998-01-01', '1999-01-01', '2000-01-01', '2001-01-01',\n",
       "               '2002-01-01', '2003-01-01', '2004-01-01', '2006-01-01',\n",
       "               '2007-01-01', '2008-01-01', '2009-01-01', '2010-01-01',\n",
       "               '2011-01-01', '2012-01-01', '2013-01-01', '2014-01-01',\n",
       "               '2015-01-01', '2016-01-01', '2017-01-01'],\n",
       "              dtype='datetime64[ns]', name='nhl season', freq=None)"
      ]
     },
     "execution_count": 24,
     "metadata": {},
     "output_type": "execute_result"
    }
   ],
   "source": [
    "hockey_data.index\n"
   ]
  },
  {
   "cell_type": "code",
   "execution_count": 25,
   "metadata": {
    "collapsed": true,
    "deletable": true,
    "editable": true
   },
   "outputs": [],
   "source": [
    "merged_df=pd.concat([smaller_hockey_df,hockey_season_business_data],axis=1)"
   ]
  },
  {
   "cell_type": "code",
   "execution_count": 26,
   "metadata": {
    "collapsed": false,
    "deletable": true,
    "editable": true
   },
   "outputs": [
    {
     "data": {
      "text/html": [
       "<div>\n",
       "<table border=\"1\" class=\"dataframe\">\n",
       "  <thead>\n",
       "    <tr style=\"text-align: right;\">\n",
       "      <th></th>\n",
       "      <th>W</th>\n",
       "      <th>L</th>\n",
       "      <th>T</th>\n",
       "      <th>OT</th>\n",
       "      <th>GF</th>\n",
       "      <th>GA</th>\n",
       "      <th>WRollingMean</th>\n",
       "      <th>WRollingStd</th>\n",
       "      <th>WRelAvg</th>\n",
       "      <th>WStd</th>\n",
       "      <th>...</th>\n",
       "      <th>GFStd</th>\n",
       "      <th>GARollingMean</th>\n",
       "      <th>GARollingStd</th>\n",
       "      <th>GARelAvg</th>\n",
       "      <th>GAStd</th>\n",
       "      <th>bars</th>\n",
       "      <th>barsRollingMean</th>\n",
       "      <th>barsRollingStd</th>\n",
       "      <th>barsRelAvg</th>\n",
       "      <th>barsStd</th>\n",
       "    </tr>\n",
       "  </thead>\n",
       "  <tbody>\n",
       "    <tr>\n",
       "      <th>1984</th>\n",
       "      <td>35</td>\n",
       "      <td>40</td>\n",
       "      <td>5</td>\n",
       "      <td>0</td>\n",
       "      <td>286</td>\n",
       "      <td>295</td>\n",
       "      <td>38.5</td>\n",
       "      <td>4.949747</td>\n",
       "      <td>-0.090909</td>\n",
       "      <td>-0.707107</td>\n",
       "      <td>...</td>\n",
       "      <td>-0.707107</td>\n",
       "      <td>290.5</td>\n",
       "      <td>6.363961</td>\n",
       "      <td>0.015491</td>\n",
       "      <td>0.707107</td>\n",
       "      <td>192025.6</td>\n",
       "      <td>186047.470833</td>\n",
       "      <td>17364.219385</td>\n",
       "      <td>0.226269</td>\n",
       "      <td>2.310409</td>\n",
       "    </tr>\n",
       "    <tr>\n",
       "      <th>1985</th>\n",
       "      <td>41</td>\n",
       "      <td>27</td>\n",
       "      <td>12</td>\n",
       "      <td>0</td>\n",
       "      <td>309</td>\n",
       "      <td>262</td>\n",
       "      <td>38.0</td>\n",
       "      <td>4.242641</td>\n",
       "      <td>0.078947</td>\n",
       "      <td>0.707107</td>\n",
       "      <td>...</td>\n",
       "      <td>0.707107</td>\n",
       "      <td>278.5</td>\n",
       "      <td>23.334524</td>\n",
       "      <td>-0.059246</td>\n",
       "      <td>-0.707107</td>\n",
       "      <td>204370.7</td>\n",
       "      <td>196787.329167</td>\n",
       "      <td>17496.454976</td>\n",
       "      <td>0.270173</td>\n",
       "      <td>3.007460</td>\n",
       "    </tr>\n",
       "    <tr>\n",
       "      <th>1986</th>\n",
       "      <td>40</td>\n",
       "      <td>33</td>\n",
       "      <td>7</td>\n",
       "      <td>0</td>\n",
       "      <td>330</td>\n",
       "      <td>280</td>\n",
       "      <td>40.5</td>\n",
       "      <td>0.707107</td>\n",
       "      <td>-0.012346</td>\n",
       "      <td>-0.707107</td>\n",
       "      <td>...</td>\n",
       "      <td>0.707107</td>\n",
       "      <td>271.0</td>\n",
       "      <td>12.727922</td>\n",
       "      <td>0.033210</td>\n",
       "      <td>0.707107</td>\n",
       "      <td>200348.4</td>\n",
       "      <td>208503.629167</td>\n",
       "      <td>16805.657712</td>\n",
       "      <td>-0.272711</td>\n",
       "      <td>-3.539345</td>\n",
       "    </tr>\n",
       "    <tr>\n",
       "      <th>1987</th>\n",
       "      <td>41</td>\n",
       "      <td>29</td>\n",
       "      <td>10</td>\n",
       "      <td>0</td>\n",
       "      <td>277</td>\n",
       "      <td>241</td>\n",
       "      <td>40.5</td>\n",
       "      <td>0.707107</td>\n",
       "      <td>0.012346</td>\n",
       "      <td>0.707107</td>\n",
       "      <td>...</td>\n",
       "      <td>-0.707107</td>\n",
       "      <td>260.5</td>\n",
       "      <td>27.577164</td>\n",
       "      <td>-0.074856</td>\n",
       "      <td>-0.707107</td>\n",
       "      <td>194751.6</td>\n",
       "      <td>207031.200000</td>\n",
       "      <td>18456.497610</td>\n",
       "      <td>-0.416187</td>\n",
       "      <td>-4.588737</td>\n",
       "    </tr>\n",
       "    <tr>\n",
       "      <th>1988</th>\n",
       "      <td>45</td>\n",
       "      <td>22</td>\n",
       "      <td>13</td>\n",
       "      <td>0</td>\n",
       "      <td>298</td>\n",
       "      <td>238</td>\n",
       "      <td>43.0</td>\n",
       "      <td>2.828427</td>\n",
       "      <td>0.046512</td>\n",
       "      <td>0.707107</td>\n",
       "      <td>...</td>\n",
       "      <td>0.707107</td>\n",
       "      <td>239.5</td>\n",
       "      <td>2.121320</td>\n",
       "      <td>-0.006263</td>\n",
       "      <td>-0.707107</td>\n",
       "      <td>251765.7</td>\n",
       "      <td>216335.500000</td>\n",
       "      <td>28517.172236</td>\n",
       "      <td>1.149984</td>\n",
       "      <td>8.710547</td>\n",
       "    </tr>\n",
       "  </tbody>\n",
       "</table>\n",
       "<p>5 rows × 35 columns</p>\n",
       "</div>"
      ],
      "text/plain": [
       "       W   L   T  OT   GF   GA  WRollingMean  WRollingStd   WRelAvg      WStd  \\\n",
       "1984  35  40   5   0  286  295          38.5     4.949747 -0.090909 -0.707107   \n",
       "1985  41  27  12   0  309  262          38.0     4.242641  0.078947  0.707107   \n",
       "1986  40  33   7   0  330  280          40.5     0.707107 -0.012346 -0.707107   \n",
       "1987  41  29  10   0  277  241          40.5     0.707107  0.012346  0.707107   \n",
       "1988  45  22  13   0  298  238          43.0     2.828427  0.046512  0.707107   \n",
       "\n",
       "        ...        GFStd  GARollingMean  GARollingStd  GARelAvg     GAStd  \\\n",
       "1984    ...    -0.707107          290.5      6.363961  0.015491  0.707107   \n",
       "1985    ...     0.707107          278.5     23.334524 -0.059246 -0.707107   \n",
       "1986    ...     0.707107          271.0     12.727922  0.033210  0.707107   \n",
       "1987    ...    -0.707107          260.5     27.577164 -0.074856 -0.707107   \n",
       "1988    ...     0.707107          239.5      2.121320 -0.006263 -0.707107   \n",
       "\n",
       "          bars  barsRollingMean  barsRollingStd  barsRelAvg   barsStd  \n",
       "1984  192025.6    186047.470833    17364.219385    0.226269  2.310409  \n",
       "1985  204370.7    196787.329167    17496.454976    0.270173  3.007460  \n",
       "1986  200348.4    208503.629167    16805.657712   -0.272711 -3.539345  \n",
       "1987  194751.6    207031.200000    18456.497610   -0.416187 -4.588737  \n",
       "1988  251765.7    216335.500000    28517.172236    1.149984  8.710547  \n",
       "\n",
       "[5 rows x 35 columns]"
      ]
     },
     "execution_count": 26,
     "metadata": {},
     "output_type": "execute_result"
    }
   ],
   "source": [
    "merged_df.head()       \n",
    "\n",
    "#should compare it with how it differs from their mean.\n"
   ]
  },
  {
   "cell_type": "code",
   "execution_count": 27,
   "metadata": {
    "collapsed": false,
    "deletable": true,
    "editable": true
   },
   "outputs": [
    {
     "data": {
      "text/plain": [
       "<matplotlib.axes._subplots.AxesSubplot at 0x24e35470780>"
      ]
     },
     "execution_count": 27,
     "metadata": {},
     "output_type": "execute_result"
    },
    {
     "data": {
      "image/png": "[encoded data removed]",
      "text/plain": [
       "<matplotlib.figure.Figure at 0x24e350432b0>"
      ]
     },
     "metadata": {},
     "output_type": "display_data"
    }
   ],
   "source": [
    "import seaborn as sns\n",
    "\n",
    "sns.heatmap(merged_df.corr().abs())"
   ]
  },
  {
   "cell_type": "code",
   "execution_count": 28,
   "metadata": {
    "collapsed": false,
    "deletable": true,
    "editable": true
   },
   "outputs": [
    {
     "data": {
      "text/html": [
       "<div>\n",
       "<table border=\"1\" class=\"dataframe\">\n",
       "  <thead>\n",
       "    <tr style=\"text-align: right;\">\n",
       "      <th></th>\n",
       "      <th>W</th>\n",
       "      <th>L</th>\n",
       "      <th>T</th>\n",
       "      <th>OT</th>\n",
       "      <th>GF</th>\n",
       "      <th>GA</th>\n",
       "      <th>WRollingMean</th>\n",
       "      <th>WRollingStd</th>\n",
       "      <th>WRelAvg</th>\n",
       "      <th>WStd</th>\n",
       "      <th>...</th>\n",
       "      <th>OTStd</th>\n",
       "      <th>GFRollingMean</th>\n",
       "      <th>GFRollingStd</th>\n",
       "      <th>GFRelAvg</th>\n",
       "      <th>GFStd</th>\n",
       "      <th>GARollingMean</th>\n",
       "      <th>GARollingStd</th>\n",
       "      <th>GARelAvg</th>\n",
       "      <th>GAStd</th>\n",
       "      <th>bars</th>\n",
       "    </tr>\n",
       "  </thead>\n",
       "  <tbody>\n",
       "    <tr>\n",
       "      <th>barsRollingMean</th>\n",
       "      <td>0.056634</td>\n",
       "      <td>0.293954</td>\n",
       "      <td>0.053257</td>\n",
       "      <td>NaN</td>\n",
       "      <td>0.026041</td>\n",
       "      <td>0.128594</td>\n",
       "      <td>0.272626</td>\n",
       "      <td>0.221473</td>\n",
       "      <td>0.191812</td>\n",
       "      <td>0.286009</td>\n",
       "      <td>...</td>\n",
       "      <td>NaN</td>\n",
       "      <td>0.041249</td>\n",
       "      <td>0.148639</td>\n",
       "      <td>0.003929</td>\n",
       "      <td>0.061809</td>\n",
       "      <td>0.437392</td>\n",
       "      <td>0.002175</td>\n",
       "      <td>0.233813</td>\n",
       "      <td>0.253430</td>\n",
       "      <td>0.921375</td>\n",
       "    </tr>\n",
       "    <tr>\n",
       "      <th>barsRollingStd</th>\n",
       "      <td>0.419716</td>\n",
       "      <td>0.685800</td>\n",
       "      <td>0.112085</td>\n",
       "      <td>NaN</td>\n",
       "      <td>0.160407</td>\n",
       "      <td>0.293838</td>\n",
       "      <td>0.478075</td>\n",
       "      <td>0.005593</td>\n",
       "      <td>0.050068</td>\n",
       "      <td>0.195728</td>\n",
       "      <td>...</td>\n",
       "      <td>NaN</td>\n",
       "      <td>0.127660</td>\n",
       "      <td>0.043658</td>\n",
       "      <td>0.062499</td>\n",
       "      <td>0.244620</td>\n",
       "      <td>0.416857</td>\n",
       "      <td>0.192880</td>\n",
       "      <td>0.001116</td>\n",
       "      <td>0.234054</td>\n",
       "      <td>0.814257</td>\n",
       "    </tr>\n",
       "    <tr>\n",
       "      <th>barsRelAvg</th>\n",
       "      <td>0.461310</td>\n",
       "      <td>0.445782</td>\n",
       "      <td>0.123215</td>\n",
       "      <td>NaN</td>\n",
       "      <td>0.357593</td>\n",
       "      <td>0.048100</td>\n",
       "      <td>0.478033</td>\n",
       "      <td>0.159532</td>\n",
       "      <td>0.109400</td>\n",
       "      <td>0.287156</td>\n",
       "      <td>...</td>\n",
       "      <td>NaN</td>\n",
       "      <td>0.382285</td>\n",
       "      <td>0.342915</td>\n",
       "      <td>0.058737</td>\n",
       "      <td>0.424321</td>\n",
       "      <td>0.183686</td>\n",
       "      <td>0.479155</td>\n",
       "      <td>0.111617</td>\n",
       "      <td>0.350206</td>\n",
       "      <td>0.045975</td>\n",
       "    </tr>\n",
       "    <tr>\n",
       "      <th>barsStd</th>\n",
       "      <td>0.444542</td>\n",
       "      <td>0.381226</td>\n",
       "      <td>0.128265</td>\n",
       "      <td>NaN</td>\n",
       "      <td>0.359461</td>\n",
       "      <td>0.047501</td>\n",
       "      <td>0.467196</td>\n",
       "      <td>0.192498</td>\n",
       "      <td>0.106317</td>\n",
       "      <td>0.303860</td>\n",
       "      <td>...</td>\n",
       "      <td>NaN</td>\n",
       "      <td>0.411635</td>\n",
       "      <td>0.375841</td>\n",
       "      <td>0.034167</td>\n",
       "      <td>0.359063</td>\n",
       "      <td>0.244698</td>\n",
       "      <td>0.473372</td>\n",
       "      <td>0.168235</td>\n",
       "      <td>0.387961</td>\n",
       "      <td>0.052465</td>\n",
       "    </tr>\n",
       "  </tbody>\n",
       "</table>\n",
       "<p>4 rows × 31 columns</p>\n",
       "</div>"
      ],
      "text/plain": [
       "                        W         L         T  OT        GF        GA  \\\n",
       "barsRollingMean  0.056634  0.293954  0.053257 NaN  0.026041  0.128594   \n",
       "barsRollingStd   0.419716  0.685800  0.112085 NaN  0.160407  0.293838   \n",
       "barsRelAvg       0.461310  0.445782  0.123215 NaN  0.357593  0.048100   \n",
       "barsStd          0.444542  0.381226  0.128265 NaN  0.359461  0.047501   \n",
       "\n",
       "                 WRollingMean  WRollingStd   WRelAvg      WStd    ...     \\\n",
       "barsRollingMean      0.272626     0.221473  0.191812  0.286009    ...      \n",
       "barsRollingStd       0.478075     0.005593  0.050068  0.195728    ...      \n",
       "barsRelAvg           0.478033     0.159532  0.109400  0.287156    ...      \n",
       "barsStd              0.467196     0.192498  0.106317  0.303860    ...      \n",
       "\n",
       "                 OTStd  GFRollingMean  GFRollingStd  GFRelAvg     GFStd  \\\n",
       "barsRollingMean    NaN       0.041249      0.148639  0.003929  0.061809   \n",
       "barsRollingStd     NaN       0.127660      0.043658  0.062499  0.244620   \n",
       "barsRelAvg         NaN       0.382285      0.342915  0.058737  0.424321   \n",
       "barsStd            NaN       0.411635      0.375841  0.034167  0.359063   \n",
       "\n",
       "                 GARollingMean  GARollingStd  GARelAvg     GAStd      bars  \n",
       "barsRollingMean       0.437392      0.002175  0.233813  0.253430  0.921375  \n",
       "barsRollingStd        0.416857      0.192880  0.001116  0.234054  0.814257  \n",
       "barsRelAvg            0.183686      0.479155  0.111617  0.350206  0.045975  \n",
       "barsStd               0.244698      0.473372  0.168235  0.387961  0.052465  \n",
       "\n",
       "[4 rows x 31 columns]"
      ]
     },
     "execution_count": 28,
     "metadata": {},
     "output_type": "execute_result"
    }
   ],
   "source": [
    "#If you look only at the \"bar\" related rows, you can see that \n",
    "merged_df.corr().abs().ix[-4:,:-4]\n",
    "    \n"
   ]
  },
  {
   "cell_type": "code",
   "execution_count": 29,
   "metadata": {
    "collapsed": false,
    "deletable": true,
    "editable": true
   },
   "outputs": [
    {
     "data": {
      "text/plain": [
       "<seaborn.axisgrid.JointGrid at 0x24e3696c5c0>"
      ]
     },
     "execution_count": 29,
     "metadata": {},
     "output_type": "execute_result"
    },
    {
     "data": {
      "image/png": "[encoded data removed]",
      "text/plain": [
       "<matplotlib.figure.Figure at 0x24e3696cf60>"
      ]
     },
     "metadata": {},
     "output_type": "display_data"
    }
   ],
   "source": [
    "\n",
    "x,y=merged_df.LRollingMean,merged_df.bars\n",
    "\n",
    "sns.jointplot(x, y, kind='scatter', joint_kws={'alpha':0.5})\n"
   ]
  },
  {
   "cell_type": "code",
   "execution_count": 30,
   "metadata": {
    "collapsed": false,
    "deletable": true,
    "editable": true
   },
   "outputs": [
    {
     "name": "stdout",
     "output_type": "stream",
     "text": [
      "                            OLS Regression Results                            \n",
      "==============================================================================\n",
      "Dep. Variable:                      y   R-squared:                       0.556\n",
      "Model:                            OLS   Adj. R-squared:                  0.522\n",
      "Method:                 Least Squares   F-statistic:                     16.26\n",
      "Date:                Fri, 16 Jun 2017   Prob (F-statistic):            0.00142\n",
      "Time:                        20:27:28   Log-Likelihood:                -176.55\n",
      "No. Observations:                  15   AIC:                             357.1\n",
      "Df Residuals:                      13   BIC:                             358.5\n",
      "Df Model:                           1                                         \n",
      "Covariance Type:            nonrobust                                         \n",
      "==============================================================================\n",
      "                 coef    std err          t      P>|t|      [0.025      0.975]\n",
      "------------------------------------------------------------------------------\n",
      "const        4.94e+05    6.5e+04      7.603      0.000    3.54e+05    6.34e+05\n",
      "x1         -9037.0088   2240.916     -4.033      0.001   -1.39e+04   -4195.803\n",
      "==============================================================================\n",
      "Omnibus:                        2.627   Durbin-Watson:                   1.701\n",
      "Prob(Omnibus):                  0.269   Jarque-Bera (JB):                0.983\n",
      "Skew:                          -0.590   Prob(JB):                        0.612\n",
      "Kurtosis:                       3.425   Cond. No.                         217.\n",
      "==============================================================================\n",
      "\n",
      "Warnings:\n",
      "[1] Standard Errors assume that the covariance matrix of the errors is correctly specified.\n"
     ]
    },
    {
     "name": "stderr",
     "output_type": "stream",
     "text": [
      "c:\\users\\alexkeenan\\appdata\\local\\programs\\python\\python36\\lib\\site-packages\\scipy\\stats\\stats.py:1334: UserWarning: kurtosistest only valid for n>=20 ... continuing anyway, n=15\n",
      "  \"anyway, n=%i\" % int(n))\n"
     ]
    }
   ],
   "source": [
    "\n",
    "#ADDING BIAS COLUMN\n",
    "X_data=np.asarray(merged_df.LRollingMean)\n",
    "\n",
    "X_data=X_data.reshape(X_data.shape[0],1)\n",
    "\n",
    "#careful, if later you want to compare multiple elements in your regression, will have to change the width of one manually\n",
    "X = np.ones((X_data.shape[0],2), dtype=np.int16)\n",
    "X[:,1:]=X_data\n",
    "\n",
    "\n",
    "Y=np.asarray(merged_df.bars)\n",
    "\n",
    "#X = sm.add_constant(X)\n",
    "model = smf.OLS(Y,X)\n",
    "\n",
    "results = model.fit()\n",
    "\n",
    "print(results.summary())"
   ]
  },
  {
   "cell_type": "code",
   "execution_count": 31,
   "metadata": {
    "collapsed": false,
    "deletable": true,
    "editable": true
   },
   "outputs": [
    {
     "data": {
      "image/png": "[encoded data removed]",
      "text/plain": [
       "<matplotlib.figure.Figure at 0x24e36b20a58>"
      ]
     },
     "metadata": {},
     "output_type": "display_data"
    }
   ],
   "source": [
    "fig,ax=plt.subplots()\n",
    "\n",
    "X_plot = np.linspace(0,40,100)\n",
    "\n",
    "plt.plot(X_plot, results.params[0] + X_plot*results.params[1],label='wins means business')\n",
    "plt.scatter(X_data,Y) #just added this in, not sure\n",
    "\n",
    "plt.show()\n"
   ]
  },
  {
   "cell_type": "markdown",
   "metadata": {
    "deletable": true,
    "editable": true
   },
   "source": [
    "\n"
   ]
  },
  {
   "cell_type": "code",
   "execution_count": null,
   "metadata": {
    "collapsed": true,
    "deletable": true,
    "editable": true
   },
   "outputs": [],
   "source": []
  },
  {
   "cell_type": "code",
   "execution_count": null,
   "metadata": {
    "collapsed": true,
    "deletable": true,
    "editable": true
   },
   "outputs": [],
   "source": []
  },
  {
   "cell_type": "code",
   "execution_count": null,
   "metadata": {
    "collapsed": true,
    "deletable": true,
    "editable": true
   },
   "outputs": [],
   "source": []
  },
  {
   "cell_type": "code",
   "execution_count": null,
   "metadata": {
    "collapsed": true,
    "deletable": true,
    "editable": true
   },
   "outputs": [],
   "source": []
  },
  {
   "cell_type": "code",
   "execution_count": null,
   "metadata": {
    "collapsed": true,
    "deletable": true,
    "editable": true
   },
   "outputs": [],
   "source": []
  }
 ],
 "metadata": {
  "kernelspec": {
   "display_name": "Python 3",
   "language": "python",
   "name": "python3"
  },
  "language_info": {
   "codemirror_mode": {
    "name": "ipython",
    "version": 3
   },
   "file_extension": ".py",
   "mimetype": "text/x-python",
   "name": "python",
   "nbconvert_exporter": "python",
   "pygments_lexer": "ipython3",
   "version": "3.6.1rc1"
  }
 },
 "nbformat": 4,
 "nbformat_minor": 2
}
