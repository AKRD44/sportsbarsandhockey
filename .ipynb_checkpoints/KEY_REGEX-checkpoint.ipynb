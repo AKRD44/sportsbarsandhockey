{
 "cells": [
  {
   "cell_type": "code",
   "execution_count": 14,
   "metadata": {
    "collapsed": false,
    "deletable": true,
    "editable": true
   },
   "outputs": [
    {
     "name": "stdout",
     "output_type": "stream",
     "text": [
      "0\n",
      "2\n",
      "AV\n",
      "----\n",
      "None\n"
     ]
    }
   ],
   "source": [
    "import re\n",
    "\n",
    "#MATCH\n",
    "result = re.match(r'AV', 'AV Analytics Vidhya AV')  #the r is for raw string\n",
    "print (result.start())\n",
    "print (result.end())\n",
    "print(result.group())\n",
    "\n",
    "print(\"----\")\n",
    "result = re.match(r'Analytics', 'AV Analytics Vidhya AV')  #match only looks at the beginning of the string.\n",
    "print (result) \n"
   ]
  },
  {
   "cell_type": "code",
   "execution_count": 17,
   "metadata": {
    "collapsed": false,
    "deletable": true,
    "editable": true
   },
   "outputs": [
    {
     "name": "stdout",
     "output_type": "stream",
     "text": [
      "Analytics\n",
      "AV\n"
     ]
    }
   ],
   "source": [
    "#SEARCH\n",
    "result = re.search(r'Analytics', 'AV Analytics Vidhya AV')\n",
    "print (result.group(0))\n",
    "\n",
    "result = re.search(r'AV', 'AV Analytics Vidhya AV')\n",
    "print (result.group(0))\n"
   ]
  },
  {
   "cell_type": "code",
   "execution_count": 18,
   "metadata": {
    "collapsed": false,
    "deletable": true,
    "editable": true
   },
   "outputs": [
    {
     "name": "stdout",
     "output_type": "stream",
     "text": [
      "['AV', 'AV']\n"
     ]
    }
   ],
   "source": [
    "#FINDALL\n",
    "result = re.findall(r'AV', 'AV Analytics Vidhya AV')\n",
    "print (result)\n"
   ]
  },
  {
   "cell_type": "code",
   "execution_count": 22,
   "metadata": {
    "collapsed": false,
    "deletable": true,
    "editable": true
   },
   "outputs": [
    {
     "name": "stdout",
     "output_type": "stream",
     "text": [
      "['AV ', ' Vidhya AV']\n",
      "-----\n",
      "['Analyt', 'cs V', 'dhya']\n",
      "-----\n",
      "['Analyt', 'cs Vidhya']\n"
     ]
    }
   ],
   "source": [
    "#SPLIT\n",
    "\n",
    "result=re.split(r'Analytics','AV Analytics Vidhya AV')\n",
    "print(result)\n",
    "\n",
    "print(\"-----\")\n",
    "\n",
    "result=re.split(r'i','Analytics Vidhya')\n",
    "print(result)\n",
    "print(\"-----\")\n",
    "#can put a limit on number of splits\n",
    "result=re.split(r'i','Analytics Vidhya',maxsplit=1)\n",
    "print(result)\n",
    "\n"
   ]
  },
  {
   "cell_type": "code",
   "execution_count": 25,
   "metadata": {
    "collapsed": false,
    "deletable": true,
    "editable": true
   },
   "outputs": [
    {
     "data": {
      "text/plain": [
       "'AV is largest Analytics community of the World'"
      ]
     },
     "execution_count": 25,
     "metadata": {},
     "output_type": "execute_result"
    }
   ],
   "source": [
    "#SUB(pattern, repl, string)\n",
    "\n",
    "result=re.sub(r'India','the World','AV is largest Analytics community of India')\n",
    "\n",
    "result"
   ]
  },
  {
   "cell_type": "code",
   "execution_count": 26,
   "metadata": {
    "collapsed": false,
    "deletable": true,
    "editable": true
   },
   "outputs": [
    {
     "name": "stdout",
     "output_type": "stream",
     "text": [
      "['AV', 'AV']\n",
      "['AV']\n"
     ]
    }
   ],
   "source": [
    "#COMPILE  Like preloading the pattern you want to look for. \n",
    "\n",
    "pattern=re.compile('AV')\n",
    "result=pattern.findall('AV Analytics Vidhya AV')  #instead of having to write re.findall('AV','AV Analytics Vidhya AV')\n",
    "print (result)\n",
    "result2=pattern.findall('AV is largest analytics community of India')\n",
    "print (result2)"
   ]
  },
  {
   "cell_type": "markdown",
   "metadata": {
    "deletable": true,
    "editable": true
   },
   "source": [
    "COMMONLY USED OPERATORS\n",
    "https://www.analyticsvidhya.com/blog/2015/06/regular-expression-python/"
   ]
  },
  {
   "cell_type": "code",
   "execution_count": 60,
   "metadata": {
    "collapsed": false,
    "deletable": true,
    "editable": true
   },
   "outputs": [
    {
     "name": "stdout",
     "output_type": "stream",
     "text": [
      "['A', 'V', ' ', 'A', 'n', 'a', 'l', 'y', 't', 'i', 'c', 's', ' ', 'V', 'i', 'd', 'h', 'y', 'a', ' ', 'A', 'V', ' ', '1', '2', '3', ' ', '-', ' ', '(', ')', ' ', 'I', 'N', 'D', 'I', 'A']\n",
      "---\n",
      "['A', 'V', 'A', 'n', 'a', 'l', 'y', 't', 'i', 'c', 's', 'V', 'i', 'd', 'h', 'y', 'a', 'A', 'V', '1', '2', '3', 'I', 'N', 'D', 'I', 'A']\n",
      "---\n",
      "[' ', ' ', ' ', ' ', ' ', '-', ' ', '(', ')', ' ']\n",
      "---\n"
     ]
    }
   ],
   "source": [
    "text='AV Analytics Vidhya AV 123 - () INDIA'\n",
    "\n",
    "pattern=re.compile(r'.')    #matches any character except new line\n",
    "result=pattern.findall(text)\n",
    "print(result)\n",
    "print(\"---\")\n",
    "\n",
    "pattern=re.compile(r'\\w')    #matches any alphanumeric character\n",
    "result=pattern.findall(text)\n",
    "print(result)\n",
    "print(\"---\")\n",
    "\n",
    "pattern=re.compile(r'\\W')    #matches any NONalphanumeric character\n",
    "result=pattern.findall(text)\n",
    "print(result)\n",
    "print(\"---\")\n",
    "\n",
    "\n",
    "\n"
   ]
  },
  {
   "cell_type": "code",
   "execution_count": 61,
   "metadata": {
    "collapsed": false,
    "deletable": true,
    "editable": true
   },
   "outputs": [
    {
     "name": "stdout",
     "output_type": "stream",
     "text": [
      "['1', '2', '3']\n",
      "---\n",
      "['A', 'V', ' ', 'A', 'n', 'a', 'l', 'y', 't', 'i', 'c', 's', ' ', 'V', 'i', 'd', 'h', 'y', 'a', ' ', 'A', 'V', ' ', ' ', '-', ' ', '(', ')', ' ', 'I', 'N', 'D', 'I', 'A']\n",
      "---\n"
     ]
    }
   ],
   "source": [
    "pattern=re.compile(r'\\d')    #matches only digits\n",
    "result=pattern.findall(text)\n",
    "print(result)\n",
    "print(\"---\")\n",
    "\n",
    "pattern=re.compile(r'\\D')    #matches any NONdigits\n",
    "result=pattern.findall(text)\n",
    "print(result)\n",
    "print(\"---\")\n"
   ]
  },
  {
   "cell_type": "code",
   "execution_count": 62,
   "metadata": {
    "collapsed": false,
    "deletable": true,
    "editable": true
   },
   "outputs": [
    {
     "name": "stdout",
     "output_type": "stream",
     "text": [
      "[' ', ' ', ' ', ' ', ' ', ' ', ' ']\n",
      "---\n",
      "['A', 'V', 'A', 'n', 'a', 'l', 'y', 't', 'i', 'c', 's', 'V', 'i', 'd', 'h', 'y', 'a', 'A', 'V', '1', '2', '3', '-', '(', ')', 'I', 'N', 'D', 'I', 'A']\n",
      "---\n"
     ]
    }
   ],
   "source": [
    "pattern=re.compile(r'\\s')    #matches with single white spaces (space, newline, return, tab, form) \n",
    "result=pattern.findall(text)\n",
    "print(result)\n",
    "print(\"---\")\n",
    "\n",
    "pattern=re.compile(r'\\S')    #matches any non white space characters\n",
    "result=pattern.findall(text)\n",
    "print(result)\n",
    "print(\"---\")\n"
   ]
  },
  {
   "cell_type": "code",
   "execution_count": 63,
   "metadata": {
    "collapsed": false,
    "deletable": true,
    "editable": true
   },
   "outputs": [
    {
     "name": "stdout",
     "output_type": "stream",
     "text": [
      "['', '', '', '', '', '', '', '', '', '', '', '']\n",
      "---\n",
      "['', '', '', '', '', '', '', '', '', '', '', '', '', '', '', '', '', '', '', '', '', '', '', '', '', '']\n",
      "---\n"
     ]
    }
   ],
   "source": [
    "pattern=re.compile(r'\\b')    # boundary between word and non-word and /B is opposite of /b\n",
    "result=pattern.findall(text)\n",
    "print(result)\n",
    "print(\"---\")\n",
    "\n",
    "pattern=re.compile(r'\\B')    \n",
    "result=pattern.findall(text)\n",
    "print(result)\n",
    "print(\"---\")"
   ]
  },
  {
   "cell_type": "code",
   "execution_count": 64,
   "metadata": {
    "collapsed": false,
    "deletable": true,
    "editable": true
   },
   "outputs": [
    {
     "name": "stdout",
     "output_type": "stream",
     "text": [
      "['A', 'A', 'l', 'i', 'c', 's', 'i', 'd', 'A', 'A']\n",
      "---\n",
      "['V', ' ', 'n', 'a', 'y', 't', ' ', 'V', 'h', 'y', 'a', ' ', 'V', ' ', '1', '2', '3', ' ', '-', ' ', '(', ')', ' ', 'I', 'N', 'D', 'I']\n",
      "---\n"
     ]
    }
   ],
   "source": [
    "pattern=re.compile(r'[Aisdfelic]')    #Matches anycharacter that is inside the []\n",
    "result=pattern.findall(text)\n",
    "print(result)\n",
    "print(\"---\")\n",
    "\n",
    "pattern=re.compile(r'[^Aisdfelic]')          #matches all characters that are NOT in []\n",
    "result=pattern.findall(text)\n",
    "print(result)\n",
    "print(\"---\")"
   ]
  },
  {
   "cell_type": "code",
   "execution_count": 65,
   "metadata": {
    "collapsed": false,
    "deletable": true,
    "editable": true
   },
   "outputs": [
    {
     "name": "stdout",
     "output_type": "stream",
     "text": [
      "['AV', 'AV']\n",
      "---\n"
     ]
    }
   ],
   "source": [
    "pattern=re.compile(r'AV{1,3}')    #Matches at least n and at most m occurrences of preceding expression if we write it as {,m} then it will return at least any minimum occurrence to max m preceding expression.\n",
    "result=pattern.findall(text)\n",
    "print(result)\n",
    "print(\"---\")\n",
    "\n"
   ]
  },
  {
   "cell_type": "code",
   "execution_count": 66,
   "metadata": {
    "collapsed": false,
    "deletable": true,
    "editable": true
   },
   "outputs": [
    {
     "name": "stdout",
     "output_type": "stream",
     "text": [
      "['A', 'A', 'i', 'i', 'A', 'A']\n",
      "---\n"
     ]
    }
   ],
   "source": [
    "pattern=re.compile(r'A|i')    #Matches either A or i\n",
    "result=pattern.findall(text)\n",
    "print(result)\n",
    "print(\"---\")\n"
   ]
  },
  {
   "cell_type": "code",
   "execution_count": 67,
   "metadata": {
    "collapsed": false,
    "deletable": true,
    "editable": true
   },
   "outputs": [
    {
     "name": "stdout",
     "output_type": "stream",
     "text": [
      "['A', '', '', 'A', '', '', '', '', '', '', '', '', '', '', '', '', '', '', '', '', 'A', '', '']\n",
      "---\n",
      "['A', 'A', 'A']\n",
      "---\n"
     ]
    }
   ],
   "source": [
    "\n",
    "pattern=re.compile(r'A?')    #matches 0 or more characters to its left\n",
    "result=pattern.findall('AV Analytics Vidhya AV')\n",
    "print(result)\n",
    "print(\"---\")\n",
    "\n",
    "pattern=re.compile(r'A+')    #matches 1 or more characters to its left\n",
    "result=pattern.findall('AV Analytics Vidhya AV')\n",
    "print(result)\n",
    "print(\"---\")\n"
   ]
  },
  {
   "cell_type": "markdown",
   "metadata": {
    "deletable": true,
    "editable": true
   },
   "source": [
    "USEFUL OPERATIONS"
   ]
  },
  {
   "cell_type": "code",
   "execution_count": 68,
   "metadata": {
    "collapsed": false,
    "deletable": true,
    "editable": true
   },
   "outputs": [
    {
     "name": "stdout",
     "output_type": "stream",
     "text": [
      "['AV', '', 'Analytics', '', 'Vidhya', '', 'AV', '', '123', '', '', '', '', '', '', 'INDIA', '']\n",
      "---\n",
      "['AV', 'Analytics', 'Vidhya', 'AV', '123', 'INDIA']\n",
      "---\n"
     ]
    }
   ],
   "source": [
    "pattern=re.compile(r'\\w*')    #returns the words + spaces. * returns 0 or more patterns on the left\n",
    "result=pattern.findall(text)\n",
    "print(result)\n",
    "print(\"---\")\n",
    "\n",
    "pattern=re.compile(r'\\w+')    #Only keeps the words. + returns 1 or more patterns on the left. \n",
    "result=pattern.findall(text)\n",
    "print(result)\n",
    "print(\"---\")\n"
   ]
  },
  {
   "cell_type": "code",
   "execution_count": 69,
   "metadata": {
    "collapsed": false,
    "deletable": true,
    "editable": true
   },
   "outputs": [
    {
     "name": "stdout",
     "output_type": "stream",
     "text": [
      "['AV']\n",
      "---\n",
      "['INDIA']\n",
      "---\n"
     ]
    }
   ],
   "source": [
    "pattern=re.compile(r'^\\w*')    #^extracts the first word\n",
    "result=pattern.findall(text)\n",
    "print(result)\n",
    "print(\"---\")\n",
    "\n",
    "pattern=re.compile(r'\\w+$')    #$ extracts the last word\n",
    "result=pattern.findall(text)\n",
    "print(result)\n",
    "print(\"---\")\n"
   ]
  },
  {
   "cell_type": "code",
   "execution_count": 70,
   "metadata": {
    "collapsed": false,
    "deletable": true,
    "editable": true
   },
   "outputs": [
    {
     "name": "stdout",
     "output_type": "stream",
     "text": [
      "['AV', 'An', 'al', 'yt', 'ic', 'Vi', 'dh', 'ya', 'AV', '12', 'IN', 'DI']\n",
      "---\n"
     ]
    }
   ],
   "source": [
    "#Return the first two character of each word\n",
    "pattern=re.compile(r'\\w\\w')\n",
    "result=pattern.findall(text)\n",
    "print(result)\n",
    "print(\"---\")"
   ]
  },
  {
   "cell_type": "code",
   "execution_count": 71,
   "metadata": {
    "collapsed": false,
    "deletable": true,
    "editable": true
   },
   "outputs": [
    {
     "name": "stdout",
     "output_type": "stream",
     "text": [
      "['AV', 'An', 'Vi', 'AV', '12', 'IN']\n",
      "---\n"
     ]
    }
   ],
   "source": [
    "\n",
    "#Extract consecutive two characters those available at start of word boundary (using “\\b“)\n",
    "pattern=re.compile(r'\\b\\w.')   #this means must start with beginning of a word, then you have alphanumeric character, followed by any character\n",
    "result=pattern.findall(text)\n",
    "print(result)\n",
    "print(\"---\")\n"
   ]
  },
  {
   "cell_type": "code",
   "execution_count": 76,
   "metadata": {
    "collapsed": false,
    "deletable": true,
    "editable": true
   },
   "outputs": [
    {
     "name": "stdout",
     "output_type": "stream",
     "text": [
      "['@gmail.com, xyz@test.in, test.first@analyticsvidhya.com, first.test@rest.biz']\n",
      "---\n"
     ]
    }
   ],
   "source": [
    "#Return the domain type of given email-ids\n",
    "emails='abc.test@gmail.com, xyz@test.in, test.first@analyticsvidhya.com, first.test@rest.biz'\n",
    "pattern=re.compile(r'@.+')   #starts with @ followed by 1 or more alphanumerica characters\n",
    "result=pattern.findall(emails)\n",
    "print(result)\n",
    "print(\"---\")\n",
    "\n"
   ]
  },
  {
   "cell_type": "code",
   "execution_count": 79,
   "metadata": {
    "collapsed": false,
    "deletable": true,
    "editable": true
   },
   "outputs": [
    {
     "name": "stdout",
     "output_type": "stream",
     "text": [
      "['com', 'in', 'com', 'biz']\n",
      "---\n"
     ]
    }
   ],
   "source": [
    "#Extract only domain name using “( )”\n",
    "pattern=re.compile(r'@\\w+.(\\w+)')      #() basically saying this is the part you want returned. \n",
    "result=re.findall(r'@\\w+.(\\w+)',emails)\n",
    "print(result)\n",
    "print(\"---\")\n",
    "\n"
   ]
  },
  {
   "cell_type": "code",
   "execution_count": 80,
   "metadata": {
    "collapsed": false,
    "deletable": true,
    "editable": true
   },
   "outputs": [
    {
     "name": "stdout",
     "output_type": "stream",
     "text": [
      "['12-05-2007', '11-11-2011', '12-01-2009']\n",
      "---\n"
     ]
    }
   ],
   "source": [
    "#Return date from given string\n",
    "dates='Amit 34-3456 12-05-2007, XYZ 56-4532 11-11-2011, ABC 67-8945 12-01-2009'\n",
    "pattern=re.compile(r'\\d{2}-\\d{2}-\\d{4}')\n",
    "result=re.findall(pattern,dates)\n",
    "print(result)\n",
    "print(\"---\")\n",
    "\n"
   ]
  },
  {
   "cell_type": "code",
   "execution_count": 81,
   "metadata": {
    "collapsed": false,
    "deletable": true,
    "editable": true
   },
   "outputs": [
    {
     "name": "stdout",
     "output_type": "stream",
     "text": [
      "['AV', 'Analytics', 'idhya', 'AV', 'INDIA']\n",
      "---\n"
     ]
    }
   ],
   "source": [
    "#Return words starts with alphabets (using [])\n",
    "pattern=re.compile(r'[aeiouAEIOU]\\w+')    #saying want something that starts with a vowel, followed by however many alphanumeric characters.\n",
    "result=re.findall(pattern,text)\n",
    "print(result)\n",
    "print(\"---\")"
   ]
  },
  {
   "cell_type": "code",
   "execution_count": 86,
   "metadata": {
    "collapsed": false,
    "deletable": true,
    "editable": true
   },
   "outputs": [
    {
     "name": "stdout",
     "output_type": "stream",
     "text": [
      "<_sre.SRE_Match object; span=(0, 10), match='9999999999'>\n",
      "---\n",
      "None\n",
      "---\n",
      "None\n",
      "---\n"
     ]
    }
   ],
   "source": [
    "#Validate a phone number (phone number must be of 10 digits and starts with 8 or 9) \n",
    "li=['9999999999','999999-999','99999x9999']\n",
    "\n",
    "pattern=re.compile(r'[8-9]{1}[0-9]{9}')\n",
    "for each in li:\n",
    "    result=re.match(pattern,each)\n",
    "    print(result)\n",
    "    print(\"---\")\n",
    "    \n",
    "#result=re.findall(pattern,li)    #this won't work\n"
   ]
  },
  {
   "cell_type": "code",
   "execution_count": 88,
   "metadata": {
    "collapsed": false,
    "deletable": true,
    "editable": true
   },
   "outputs": [
    {
     "name": "stdout",
     "output_type": "stream",
     "text": [
      "['asdf', 'fjdk;afed', 'fjek', 'asdf', 'foo']\n",
      "---\n",
      "asdf fjdk;afed fjek asdf foo\n",
      "---\n"
     ]
    }
   ],
   "source": [
    "#Problem 7: Split a string with multiple delimiters\n",
    "\n",
    "line = 'asdf fjdk;afed,fjek,asdf,foo' # String has multiple delimiters (\";\",\",\",\" \").\n",
    "\n",
    "pattern=re.compile(r'[:,\\s]')  #either : or a comma or \\s which means any single white space character. \n",
    "result= re.split(pattern, line)\n",
    "print(result)\n",
    "print(\"---\")\n",
    "\n",
    "#REPLACING CHARACTERS\n",
    "result= re.sub(pattern,' ', line)  #anytime in line where you detect the pattern, replace with \" \"\n",
    "print(result)\n",
    "print(\"---\")\n",
    "\n"
   ]
  },
  {
   "cell_type": "code",
   "execution_count": 90,
   "metadata": {
    "collapsed": false,
    "deletable": true,
    "editable": true
   },
   "outputs": [
    {
     "name": "stdout",
     "output_type": "stream",
     "text": [
      "[('Noah', 'Emma')]\n"
     ]
    }
   ],
   "source": [
    "#RETRIEVE INFO FROM HTML FILE\n",
    "\n",
    "html='<tr align=\"center\"><td>1</td> <td>Noah</td> <td>Emma</td></tr>'\n",
    "\n",
    "pattern=re.compile(r'<td>\\w+</td>(\\w+)</td>')\n",
    "result=re.findall(r'<td>\\w+</td>\\s<td>(\\w+)</td>\\s<td>(\\w+)</td>',html)\n",
    "print (result)\n"
   ]
  },
  {
   "cell_type": "code",
   "execution_count": null,
   "metadata": {
    "collapsed": true,
    "deletable": true,
    "editable": true
   },
   "outputs": [],
   "source": []
  }
 ],
 "metadata": {
  "kernelspec": {
   "display_name": "Python 3",
   "language": "python",
   "name": "python3"
  },
  "language_info": {
   "codemirror_mode": {
    "name": "ipython",
    "version": 3
   },
   "file_extension": ".py",
   "mimetype": "text/x-python",
   "name": "python",
   "nbconvert_exporter": "python",
   "pygments_lexer": "ipython3",
   "version": "3.6.1rc1"
  }
 },
 "nbformat": 4,
 "nbformat_minor": 2
}
