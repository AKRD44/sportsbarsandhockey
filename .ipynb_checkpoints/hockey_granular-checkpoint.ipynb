{
 "cells": [
  {
   "cell_type": "markdown",
   "metadata": {
    "deletable": true,
    "editable": true
   },
   "source": [
    "# How does the performance of the Montreal Canadiens affect business for bars?\n",
    "\n",
    "Hockey data from http://ourhistory.canadiens.com/stats/search#/dashboard/players/\n",
    "\n",
    "tavern statistics 1981 to Dec 1997\n",
    "http://www5.statcan.gc.ca/cansim/a26?lang=eng&retrLang=eng&id=3550002&tabMode=dataTable&srchLan=-1&p1=-1&p2=9\n",
    "\n",
    "tavern statistics 1990 to Oct 2007\n",
    "http://www5.statcan.gc.ca/cansim/a26?lang=eng&retrLang=eng&id=3550001&tabMode=dataTable&srchLan=-1&p1=-1&p2=9"
   ]
  },
  {
   "cell_type": "code",
   "execution_count": 2,
   "metadata": {
    "collapsed": false,
    "deletable": true,
    "editable": true
   },
   "outputs": [],
   "source": [
    "import pandas as pd\n",
    "import numpy as np\n",
    "import statsmodels.formula.api as smf\n",
    "import seaborn as sns\n",
    "import matplotlib.pyplot as plt\n",
    "from dateutil.relativedelta import relativedelta\n",
    "plt.style.use(\"seaborn\")\n",
    "from myscripts import create_stats\n",
    "plt.rcParams['figure.figsize'] = (10, 6)\n",
    "%matplotlib inline\n",
    "monthly_window=12"
   ]
  },
  {
   "cell_type": "markdown",
   "metadata": {
    "deletable": true,
    "editable": true
   },
   "source": [
    "Let's look at the hockey data"
   ]
  },
  {
   "cell_type": "code",
   "execution_count": 3,
   "metadata": {
    "collapsed": false,
    "deletable": true,
    "editable": true
   },
   "outputs": [
    {
     "data": {
      "text/html": [
       "<div>\n",
       "<table border=\"1\" class=\"dataframe\">\n",
       "  <thead>\n",
       "    <tr style=\"text-align: right;\">\n",
       "      <th></th>\n",
       "      <th>AWAY</th>\n",
       "      <th>HOME</th>\n",
       "    </tr>\n",
       "    <tr>\n",
       "      <th>DATE</th>\n",
       "      <th></th>\n",
       "      <th></th>\n",
       "    </tr>\n",
       "  </thead>\n",
       "  <tbody>\n",
       "    <tr>\n",
       "      <th>1910-01-19</th>\n",
       "      <td>MTL 4</td>\n",
       "      <td>REN 9</td>\n",
       "    </tr>\n",
       "    <tr>\n",
       "      <th>1910-01-22</th>\n",
       "      <td>MTL 4</td>\n",
       "      <td>OTT 6</td>\n",
       "    </tr>\n",
       "    <tr>\n",
       "      <th>1910-01-26</th>\n",
       "      <td>OTT 8</td>\n",
       "      <td>MTL 4</td>\n",
       "    </tr>\n",
       "    <tr>\n",
       "      <th>1910-02-02</th>\n",
       "      <td>MTL 3</td>\n",
       "      <td>SHA 8</td>\n",
       "    </tr>\n",
       "    <tr>\n",
       "      <th>1910-07-02</th>\n",
       "      <td>HAI 5</td>\n",
       "      <td>MTL 9</td>\n",
       "    </tr>\n",
       "  </tbody>\n",
       "</table>\n",
       "</div>"
      ],
      "text/plain": [
       "             AWAY   HOME\n",
       "DATE                    \n",
       "1910-01-19  MTL 4  REN 9\n",
       "1910-01-22  MTL 4  OTT 6\n",
       "1910-01-26  OTT 8  MTL 4\n",
       "1910-02-02  MTL 3  SHA 8\n",
       "1910-07-02  HAI 5  MTL 9"
      ]
     },
     "execution_count": 3,
     "metadata": {},
     "output_type": "execute_result"
    }
   ],
   "source": [
    "hockey_data=pd.read_csv('mtl_hockey_granular.csv',usecols=[\"DATE\",\"AWAY\",\"HOME\"],index_col=\"DATE\",parse_dates=True)\n",
    "hockey_data.head()"
   ]
  },
  {
   "cell_type": "markdown",
   "metadata": {
    "deletable": true,
    "editable": true
   },
   "source": [
    "Just looking at hockey games, what are a few of its characteristics that could determine how much business bars get. \n",
    "Is the team playing at home or away? (If at home, they might just go to the stadium instead of the tavern)\n",
    "Is the game on a Thursday-Saturday night? Or is it on a monday?\n",
    "Have the MTL Canadiens been losing for a while? Winning for a while? What about the number of goals? Is the variance of goals a big draw?\n",
    "\n",
    "Let's transform the table into a more useful format."
   ]
  },
  {
   "cell_type": "code",
   "execution_count": 4,
   "metadata": {
    "collapsed": false,
    "deletable": true,
    "editable": true
   },
   "outputs": [
    {
     "name": "stderr",
     "output_type": "stream",
     "text": [
      "c:\\users\\alexkeenan\\appdata\\local\\programs\\python\\python36\\lib\\site-packages\\ipykernel\\__main__.py:6: FutureWarning: currently extract(expand=None) means expand=False (return Index/Series/DataFrame) but in a future version of pandas this will be changed to expand=True (return DataFrame)\n",
      "c:\\users\\alexkeenan\\appdata\\local\\programs\\python\\python36\\lib\\site-packages\\ipykernel\\__main__.py:7: FutureWarning: currently extract(expand=None) means expand=False (return Index/Series/DataFrame) but in a future version of pandas this will be changed to expand=True (return DataFrame)\n"
     ]
    }
   ],
   "source": [
    "hockey_data.columns=['Away','Home']\n",
    "hockey_data[\"MtlGoals\"]=hockey_data.Home\n",
    "hockey_data[\"OppGoals\"]=hockey_data.Home\n",
    "\n",
    "#separating the goals from the name\n",
    "away_goals=hockey_data.Away.str.extract('(\\d+)').astype(int)\n",
    "home_goals=hockey_data.Home.str.extract('(\\d+)').astype(int)\n",
    "\n",
    "#this version will cause the 'A value is trying to be set on a copy of a slice from a DataFrame.' problem\n",
    "#hockey_data[hockey_data.Away.str.contains(\"MTL\")].\"MtlGoals\"=away_goals[hockey_data.Away.str.contains(\"MTL\")].values\n",
    "\n",
    "mtl_home=hockey_data.Home.str.contains(\"MTL\")\n",
    "mtl_away=~hockey_data.Home.str.contains(\"MTL\")\n",
    "\n",
    "hockey_data.loc[mtl_away,\"MtlGoals\"]=away_goals[mtl_away].values\n",
    "hockey_data.loc[mtl_home,\"MtlGoals\"]=home_goals[mtl_home].values\n",
    "\n",
    "hockey_data.loc[mtl_home,\"OppGoals\"]=away_goals[mtl_home].values\n",
    "hockey_data.loc[mtl_away,\"OppGoals\"]=home_goals[mtl_away].values\n",
    "\n",
    "hockey_data.Away=hockey_data.Away.str.replace('\\d+', '')\n",
    "hockey_data.Home=hockey_data.Home.str.replace('\\d+', '')\n",
    "\n",
    "hockey_data[\"Opp\"]=hockey_data.Away\n",
    "hockey_data.loc[mtl_away,\"Opp\"]=hockey_data.Home[mtl_away].values\n",
    "hockey_data.loc[mtl_home,\"Opp\"]=hockey_data.Away[mtl_home].values\n",
    "\n",
    "#I need these to be numbers because later on I will be summing them up\n",
    "\n",
    "hockey_data.loc[mtl_away,\"Away\"]=1\n",
    "hockey_data.loc[mtl_away,\"Home\"]=0\n",
    "\n",
    "hockey_data.loc[mtl_home,\"Away\"]=0\n",
    "hockey_data.loc[mtl_home,\"Home\"]=1\n",
    "\n",
    "hockey_data[\"Win\"]=0\n",
    "hockey_data[\"Tie\"]=0\n",
    "hockey_data[\"Defeat\"]=0\n",
    "\n",
    "\n",
    "wins=hockey_data.MtlGoals>hockey_data.OppGoals\n",
    "ties=hockey_data.MtlGoals==hockey_data.OppGoals\n",
    "losses=hockey_data.MtlGoals<hockey_data.OppGoals\n",
    "\n",
    "hockey_data.loc[wins,\"Win\"]=1\n",
    "hockey_data.loc[ties,\"Tie\"]=1\n",
    "hockey_data.loc[losses,\"Defeat\"]=1\n",
    "\n",
    "#days of the week\n",
    "\n",
    "hockey_data[\"monday\"]=hockey_data.index.dayofweek==0\n",
    "hockey_data[\"tuesday\"]=hockey_data.index.dayofweek==1\n",
    "hockey_data[\"wednesday\"]=hockey_data.index.dayofweek==2\n",
    "hockey_data[\"thursday\"]=hockey_data.index.dayofweek==3\n",
    "hockey_data[\"friday\"]=hockey_data.index.dayofweek==4\n",
    "hockey_data[\"saturday\"]=hockey_data.index.dayofweek==5\n",
    "hockey_data[\"sunday\"]=hockey_data.index.dayofweek==6\n"
   ]
  },
  {
   "cell_type": "markdown",
   "metadata": {
    "deletable": true,
    "editable": true
   },
   "source": [
    "Let's see the same data looks like now"
   ]
  },
  {
   "cell_type": "code",
   "execution_count": 5,
   "metadata": {
    "collapsed": false,
    "deletable": true,
    "editable": true
   },
   "outputs": [
    {
     "data": {
      "text/html": [
       "<div>\n",
       "<table border=\"1\" class=\"dataframe\">\n",
       "  <thead>\n",
       "    <tr style=\"text-align: right;\">\n",
       "      <th></th>\n",
       "      <th>Away</th>\n",
       "      <th>Home</th>\n",
       "      <th>MtlGoals</th>\n",
       "      <th>OppGoals</th>\n",
       "      <th>Opp</th>\n",
       "      <th>Win</th>\n",
       "      <th>Tie</th>\n",
       "      <th>Defeat</th>\n",
       "      <th>monday</th>\n",
       "      <th>tuesday</th>\n",
       "      <th>wednesday</th>\n",
       "      <th>thursday</th>\n",
       "      <th>friday</th>\n",
       "      <th>saturday</th>\n",
       "      <th>sunday</th>\n",
       "    </tr>\n",
       "    <tr>\n",
       "      <th>DATE</th>\n",
       "      <th></th>\n",
       "      <th></th>\n",
       "      <th></th>\n",
       "      <th></th>\n",
       "      <th></th>\n",
       "      <th></th>\n",
       "      <th></th>\n",
       "      <th></th>\n",
       "      <th></th>\n",
       "      <th></th>\n",
       "      <th></th>\n",
       "      <th></th>\n",
       "      <th></th>\n",
       "      <th></th>\n",
       "      <th></th>\n",
       "    </tr>\n",
       "  </thead>\n",
       "  <tbody>\n",
       "    <tr>\n",
       "      <th>1910-01-19</th>\n",
       "      <td>1</td>\n",
       "      <td>0</td>\n",
       "      <td>4</td>\n",
       "      <td>9</td>\n",
       "      <td>REN</td>\n",
       "      <td>0</td>\n",
       "      <td>0</td>\n",
       "      <td>1</td>\n",
       "      <td>False</td>\n",
       "      <td>False</td>\n",
       "      <td>True</td>\n",
       "      <td>False</td>\n",
       "      <td>False</td>\n",
       "      <td>False</td>\n",
       "      <td>False</td>\n",
       "    </tr>\n",
       "    <tr>\n",
       "      <th>1910-01-22</th>\n",
       "      <td>1</td>\n",
       "      <td>0</td>\n",
       "      <td>4</td>\n",
       "      <td>6</td>\n",
       "      <td>OTT</td>\n",
       "      <td>0</td>\n",
       "      <td>0</td>\n",
       "      <td>1</td>\n",
       "      <td>False</td>\n",
       "      <td>False</td>\n",
       "      <td>False</td>\n",
       "      <td>False</td>\n",
       "      <td>False</td>\n",
       "      <td>True</td>\n",
       "      <td>False</td>\n",
       "    </tr>\n",
       "    <tr>\n",
       "      <th>1910-01-26</th>\n",
       "      <td>0</td>\n",
       "      <td>1</td>\n",
       "      <td>4</td>\n",
       "      <td>8</td>\n",
       "      <td>OTT</td>\n",
       "      <td>0</td>\n",
       "      <td>0</td>\n",
       "      <td>1</td>\n",
       "      <td>False</td>\n",
       "      <td>False</td>\n",
       "      <td>True</td>\n",
       "      <td>False</td>\n",
       "      <td>False</td>\n",
       "      <td>False</td>\n",
       "      <td>False</td>\n",
       "    </tr>\n",
       "    <tr>\n",
       "      <th>1910-02-02</th>\n",
       "      <td>1</td>\n",
       "      <td>0</td>\n",
       "      <td>3</td>\n",
       "      <td>8</td>\n",
       "      <td>SHA</td>\n",
       "      <td>0</td>\n",
       "      <td>0</td>\n",
       "      <td>1</td>\n",
       "      <td>False</td>\n",
       "      <td>False</td>\n",
       "      <td>True</td>\n",
       "      <td>False</td>\n",
       "      <td>False</td>\n",
       "      <td>False</td>\n",
       "      <td>False</td>\n",
       "    </tr>\n",
       "    <tr>\n",
       "      <th>1910-07-02</th>\n",
       "      <td>0</td>\n",
       "      <td>1</td>\n",
       "      <td>9</td>\n",
       "      <td>5</td>\n",
       "      <td>HAI</td>\n",
       "      <td>1</td>\n",
       "      <td>0</td>\n",
       "      <td>0</td>\n",
       "      <td>False</td>\n",
       "      <td>False</td>\n",
       "      <td>False</td>\n",
       "      <td>False</td>\n",
       "      <td>False</td>\n",
       "      <td>True</td>\n",
       "      <td>False</td>\n",
       "    </tr>\n",
       "  </tbody>\n",
       "</table>\n",
       "</div>"
      ],
      "text/plain": [
       "           Away Home MtlGoals OppGoals   Opp  Win  Tie  Defeat monday tuesday  \\\n",
       "DATE                                                                            \n",
       "1910-01-19    1    0        4        9  REN     0    0       1  False   False   \n",
       "1910-01-22    1    0        4        6  OTT     0    0       1  False   False   \n",
       "1910-01-26    0    1        4        8  OTT     0    0       1  False   False   \n",
       "1910-02-02    1    0        3        8  SHA     0    0       1  False   False   \n",
       "1910-07-02    0    1        9        5  HAI     1    0       0  False   False   \n",
       "\n",
       "           wednesday thursday friday saturday sunday  \n",
       "DATE                                                  \n",
       "1910-01-19      True    False  False    False  False  \n",
       "1910-01-22     False    False  False     True  False  \n",
       "1910-01-26      True    False  False    False  False  \n",
       "1910-02-02      True    False  False    False  False  \n",
       "1910-07-02     False    False  False     True  False  "
      ]
     },
     "execution_count": 5,
     "metadata": {},
     "output_type": "execute_result"
    }
   ],
   "source": [
    "hockey_data.head()"
   ]
  },
  {
   "cell_type": "markdown",
   "metadata": {
    "deletable": true,
    "editable": true
   },
   "source": [
    "Much more useful no? We've turned Away and Home into columns holding either 1 or 0 (all from the perspective of the MTL Canadiens of course) and we've added a few more parameters as well. Let's make sure they're all interpreted as numbers (sometimes when you read them from datasources, they're interpreted as \"strings\" or \"objects\")"
   ]
  },
  {
   "cell_type": "code",
   "execution_count": 7,
   "metadata": {
    "collapsed": false,
    "deletable": true,
    "editable": true
   },
   "outputs": [],
   "source": [
    "hockey_data.Away=pd.to_numeric(hockey_data.Away);\n",
    "hockey_data.Home=pd.to_numeric(hockey_data.Home);\n",
    "hockey_data.MtlGoals=pd.to_numeric(hockey_data.MtlGoals);\n",
    "hockey_data.OppGoals=pd.to_numeric(hockey_data.OppGoals);\n",
    "\n"
   ]
  },
  {
   "cell_type": "code",
   "execution_count": 8,
   "metadata": {
    "collapsed": false,
    "deletable": true,
    "editable": true
   },
   "outputs": [],
   "source": [
    "hockey_data=hockey_data.sort_index()"
   ]
  },
  {
   "cell_type": "markdown",
   "metadata": {
    "deletable": true,
    "editable": true
   },
   "source": [
    "For the tavern data, the most granular I could get it was on a monthly basis. This means that we need to sum up the hockey activity on a monthly basis as well to see how one affects the other. "
   ]
  },
  {
   "cell_type": "code",
   "execution_count": 9,
   "metadata": {
    "collapsed": false,
    "deletable": true,
    "editable": true
   },
   "outputs": [],
   "source": [
    "monthly_hockey_data=hockey_data.resample(\"M\").sum();\n",
    "monthly_hockey_data=monthly_hockey_data.dropna()\n"
   ]
  },
  {
   "cell_type": "markdown",
   "metadata": {
    "deletable": true,
    "editable": true
   },
   "source": [
    "Let's see what it looks like now"
   ]
  },
  {
   "cell_type": "code",
   "execution_count": 10,
   "metadata": {
    "collapsed": false,
    "deletable": true,
    "editable": true
   },
   "outputs": [
    {
     "data": {
      "text/html": [
       "<div>\n",
       "<table border=\"1\" class=\"dataframe\">\n",
       "  <thead>\n",
       "    <tr style=\"text-align: right;\">\n",
       "      <th></th>\n",
       "      <th>Away</th>\n",
       "      <th>Home</th>\n",
       "      <th>MtlGoals</th>\n",
       "      <th>OppGoals</th>\n",
       "      <th>Win</th>\n",
       "      <th>Tie</th>\n",
       "      <th>Defeat</th>\n",
       "      <th>monday</th>\n",
       "      <th>tuesday</th>\n",
       "      <th>wednesday</th>\n",
       "      <th>thursday</th>\n",
       "      <th>friday</th>\n",
       "      <th>saturday</th>\n",
       "      <th>sunday</th>\n",
       "    </tr>\n",
       "    <tr>\n",
       "      <th>DATE</th>\n",
       "      <th></th>\n",
       "      <th></th>\n",
       "      <th></th>\n",
       "      <th></th>\n",
       "      <th></th>\n",
       "      <th></th>\n",
       "      <th></th>\n",
       "      <th></th>\n",
       "      <th></th>\n",
       "      <th></th>\n",
       "      <th></th>\n",
       "      <th></th>\n",
       "      <th></th>\n",
       "      <th></th>\n",
       "    </tr>\n",
       "  </thead>\n",
       "  <tbody>\n",
       "    <tr>\n",
       "      <th>2016-01-31</th>\n",
       "      <td>5.0</td>\n",
       "      <td>3.0</td>\n",
       "      <td>19.0</td>\n",
       "      <td>28.0</td>\n",
       "      <td>2.0</td>\n",
       "      <td>0.0</td>\n",
       "      <td>6.0</td>\n",
       "      <td>1.0</td>\n",
       "      <td>2.0</td>\n",
       "      <td>0.0</td>\n",
       "      <td>1.0</td>\n",
       "      <td>1.0</td>\n",
       "      <td>2.0</td>\n",
       "      <td>1.0</td>\n",
       "    </tr>\n",
       "    <tr>\n",
       "      <th>2016-02-29</th>\n",
       "      <td>7.0</td>\n",
       "      <td>3.0</td>\n",
       "      <td>25.0</td>\n",
       "      <td>34.0</td>\n",
       "      <td>3.0</td>\n",
       "      <td>0.0</td>\n",
       "      <td>7.0</td>\n",
       "      <td>3.0</td>\n",
       "      <td>1.0</td>\n",
       "      <td>3.0</td>\n",
       "      <td>1.0</td>\n",
       "      <td>1.0</td>\n",
       "      <td>1.0</td>\n",
       "      <td>0.0</td>\n",
       "    </tr>\n",
       "    <tr>\n",
       "      <th>2016-03-31</th>\n",
       "      <td>5.0</td>\n",
       "      <td>6.0</td>\n",
       "      <td>25.0</td>\n",
       "      <td>37.0</td>\n",
       "      <td>4.0</td>\n",
       "      <td>0.0</td>\n",
       "      <td>7.0</td>\n",
       "      <td>0.0</td>\n",
       "      <td>3.0</td>\n",
       "      <td>2.0</td>\n",
       "      <td>3.0</td>\n",
       "      <td>0.0</td>\n",
       "      <td>2.0</td>\n",
       "      <td>1.0</td>\n",
       "    </tr>\n",
       "    <tr>\n",
       "      <th>2016-05-31</th>\n",
       "      <td>2.0</td>\n",
       "      <td>1.0</td>\n",
       "      <td>6.0</td>\n",
       "      <td>12.0</td>\n",
       "      <td>0.0</td>\n",
       "      <td>0.0</td>\n",
       "      <td>3.0</td>\n",
       "      <td>0.0</td>\n",
       "      <td>1.0</td>\n",
       "      <td>1.0</td>\n",
       "      <td>0.0</td>\n",
       "      <td>0.0</td>\n",
       "      <td>0.0</td>\n",
       "      <td>1.0</td>\n",
       "    </tr>\n",
       "    <tr>\n",
       "      <th>2016-06-30</th>\n",
       "      <td>0.0</td>\n",
       "      <td>2.0</td>\n",
       "      <td>7.0</td>\n",
       "      <td>2.0</td>\n",
       "      <td>2.0</td>\n",
       "      <td>0.0</td>\n",
       "      <td>0.0</td>\n",
       "      <td>0.0</td>\n",
       "      <td>0.0</td>\n",
       "      <td>1.0</td>\n",
       "      <td>1.0</td>\n",
       "      <td>0.0</td>\n",
       "      <td>0.0</td>\n",
       "      <td>0.0</td>\n",
       "    </tr>\n",
       "    <tr>\n",
       "      <th>2016-07-31</th>\n",
       "      <td>1.0</td>\n",
       "      <td>1.0</td>\n",
       "      <td>6.0</td>\n",
       "      <td>3.0</td>\n",
       "      <td>2.0</td>\n",
       "      <td>0.0</td>\n",
       "      <td>0.0</td>\n",
       "      <td>1.0</td>\n",
       "      <td>0.0</td>\n",
       "      <td>0.0</td>\n",
       "      <td>0.0</td>\n",
       "      <td>0.0</td>\n",
       "      <td>1.0</td>\n",
       "      <td>0.0</td>\n",
       "    </tr>\n",
       "    <tr>\n",
       "      <th>2016-08-31</th>\n",
       "      <td>0.0</td>\n",
       "      <td>1.0</td>\n",
       "      <td>4.0</td>\n",
       "      <td>3.0</td>\n",
       "      <td>1.0</td>\n",
       "      <td>0.0</td>\n",
       "      <td>0.0</td>\n",
       "      <td>0.0</td>\n",
       "      <td>0.0</td>\n",
       "      <td>1.0</td>\n",
       "      <td>0.0</td>\n",
       "      <td>0.0</td>\n",
       "      <td>0.0</td>\n",
       "      <td>0.0</td>\n",
       "    </tr>\n",
       "    <tr>\n",
       "      <th>2016-09-30</th>\n",
       "      <td>0.0</td>\n",
       "      <td>3.0</td>\n",
       "      <td>10.0</td>\n",
       "      <td>7.0</td>\n",
       "      <td>2.0</td>\n",
       "      <td>0.0</td>\n",
       "      <td>1.0</td>\n",
       "      <td>0.0</td>\n",
       "      <td>0.0</td>\n",
       "      <td>0.0</td>\n",
       "      <td>1.0</td>\n",
       "      <td>1.0</td>\n",
       "      <td>0.0</td>\n",
       "      <td>1.0</td>\n",
       "    </tr>\n",
       "    <tr>\n",
       "      <th>2016-10-31</th>\n",
       "      <td>0.0</td>\n",
       "      <td>1.0</td>\n",
       "      <td>3.0</td>\n",
       "      <td>2.0</td>\n",
       "      <td>1.0</td>\n",
       "      <td>0.0</td>\n",
       "      <td>0.0</td>\n",
       "      <td>1.0</td>\n",
       "      <td>0.0</td>\n",
       "      <td>0.0</td>\n",
       "      <td>0.0</td>\n",
       "      <td>0.0</td>\n",
       "      <td>0.0</td>\n",
       "      <td>0.0</td>\n",
       "    </tr>\n",
       "    <tr>\n",
       "      <th>2016-12-31</th>\n",
       "      <td>1.0</td>\n",
       "      <td>1.0</td>\n",
       "      <td>5.0</td>\n",
       "      <td>10.0</td>\n",
       "      <td>0.0</td>\n",
       "      <td>0.0</td>\n",
       "      <td>2.0</td>\n",
       "      <td>0.0</td>\n",
       "      <td>0.0</td>\n",
       "      <td>0.0</td>\n",
       "      <td>0.0</td>\n",
       "      <td>1.0</td>\n",
       "      <td>1.0</td>\n",
       "      <td>0.0</td>\n",
       "    </tr>\n",
       "  </tbody>\n",
       "</table>\n",
       "</div>"
      ],
      "text/plain": [
       "            Away  Home  MtlGoals  OppGoals  Win  Tie  Defeat  monday  tuesday  \\\n",
       "DATE                                                                            \n",
       "2016-01-31   5.0   3.0      19.0      28.0  2.0  0.0     6.0     1.0      2.0   \n",
       "2016-02-29   7.0   3.0      25.0      34.0  3.0  0.0     7.0     3.0      1.0   \n",
       "2016-03-31   5.0   6.0      25.0      37.0  4.0  0.0     7.0     0.0      3.0   \n",
       "2016-05-31   2.0   1.0       6.0      12.0  0.0  0.0     3.0     0.0      1.0   \n",
       "2016-06-30   0.0   2.0       7.0       2.0  2.0  0.0     0.0     0.0      0.0   \n",
       "2016-07-31   1.0   1.0       6.0       3.0  2.0  0.0     0.0     1.0      0.0   \n",
       "2016-08-31   0.0   1.0       4.0       3.0  1.0  0.0     0.0     0.0      0.0   \n",
       "2016-09-30   0.0   3.0      10.0       7.0  2.0  0.0     1.0     0.0      0.0   \n",
       "2016-10-31   0.0   1.0       3.0       2.0  1.0  0.0     0.0     1.0      0.0   \n",
       "2016-12-31   1.0   1.0       5.0      10.0  0.0  0.0     2.0     0.0      0.0   \n",
       "\n",
       "            wednesday  thursday  friday  saturday  sunday  \n",
       "DATE                                                       \n",
       "2016-01-31        0.0       1.0     1.0       2.0     1.0  \n",
       "2016-02-29        3.0       1.0     1.0       1.0     0.0  \n",
       "2016-03-31        2.0       3.0     0.0       2.0     1.0  \n",
       "2016-05-31        1.0       0.0     0.0       0.0     1.0  \n",
       "2016-06-30        1.0       1.0     0.0       0.0     0.0  \n",
       "2016-07-31        0.0       0.0     0.0       1.0     0.0  \n",
       "2016-08-31        1.0       0.0     0.0       0.0     0.0  \n",
       "2016-09-30        0.0       1.0     1.0       0.0     1.0  \n",
       "2016-10-31        0.0       0.0     0.0       0.0     0.0  \n",
       "2016-12-31        0.0       0.0     1.0       1.0     0.0  "
      ]
     },
     "execution_count": 10,
     "metadata": {},
     "output_type": "execute_result"
    }
   ],
   "source": [
    "monthly_hockey_data.ix[-10:]"
   ]
  },
  {
   "cell_type": "markdown",
   "metadata": {
    "deletable": true,
    "editable": true
   },
   "source": [
    "Now measuring the "
   ]
  },
  {
   "cell_type": "code",
   "execution_count": 7,
   "metadata": {
    "collapsed": false,
    "deletable": true,
    "editable": true
   },
   "outputs": [
    {
     "name": "stderr",
     "output_type": "stream",
     "text": [
      "C:\\Users\\alexkeenan\\Desktop\\montreal_canadiens\\myscripts.py:6: SettingWithCopyWarning: \n",
      "A value is trying to be set on a copy of a slice from a DataFrame.\n",
      "Try using .loc[row_indexer,col_indexer] = value instead\n",
      "\n",
      "See the caveats in the documentation: http://pandas.pydata.org/pandas-docs/stable/indexing.html#indexing-view-versus-copy\n",
      "  df[each_col_name+\"RollingMean\"]=df[each_col_name].rolling(window=window).mean()\n",
      "C:\\Users\\alexkeenan\\Desktop\\montreal_canadiens\\myscripts.py:7: SettingWithCopyWarning: \n",
      "A value is trying to be set on a copy of a slice from a DataFrame.\n",
      "Try using .loc[row_indexer,col_indexer] = value instead\n",
      "\n",
      "See the caveats in the documentation: http://pandas.pydata.org/pandas-docs/stable/indexing.html#indexing-view-versus-copy\n",
      "  df[each_col_name+\"RollingStd\"]=df[each_col_name].rolling(window=window).std()\n",
      "C:\\Users\\alexkeenan\\Desktop\\montreal_canadiens\\myscripts.py:8: SettingWithCopyWarning: \n",
      "A value is trying to be set on a copy of a slice from a DataFrame.\n",
      "Try using .loc[row_indexer,col_indexer] = value instead\n",
      "\n",
      "See the caveats in the documentation: http://pandas.pydata.org/pandas-docs/stable/indexing.html#indexing-view-versus-copy\n",
      "  df[each_col_name+\"RelAvg\"]=(df[each_col_name]/df[each_col_name+\"RollingMean\"])-1\n",
      "C:\\Users\\alexkeenan\\Desktop\\montreal_canadiens\\myscripts.py:9: SettingWithCopyWarning: \n",
      "A value is trying to be set on a copy of a slice from a DataFrame.\n",
      "Try using .loc[row_indexer,col_indexer] = value instead\n",
      "\n",
      "See the caveats in the documentation: http://pandas.pydata.org/pandas-docs/stable/indexing.html#indexing-view-versus-copy\n",
      "  df[each_col_name+\"Std\"]=(df[each_col_name]-df[each_col_name+\"RollingMean\"])/df[each_col_name+\"RollingStd\"]\n"
     ]
    }
   ],
   "source": [
    "\n",
    "monthly_hockey_data_extra=create_stats(monthly_hockey_data[[\"MtlGoals\",\"OppGoals\",\"Win\",\"Tie\",\"Defeat\"]],window=monthly_window)\n",
    "monthly_hockey_data=pd.concat([monthly_hockey_data,monthly_hockey_data_extra],axis=1)\n"
   ]
  },
  {
   "cell_type": "code",
   "execution_count": 8,
   "metadata": {
    "collapsed": true,
    "deletable": true,
    "editable": true
   },
   "outputs": [],
   "source": [
    "#saving\n",
    "\n",
    "monthly_hockey_data.to_csv(\"hockey_data_granular_refined.csv\")\n",
    "\n"
   ]
  },
  {
   "cell_type": "code",
   "execution_count": null,
   "metadata": {
    "collapsed": true
   },
   "outputs": [],
   "source": [
    "monthly_hockey_data.head()"
   ]
  },
  {
   "cell_type": "markdown",
   "metadata": {
    "deletable": true,
    "editable": true
   },
   "source": [
    "BRINGING IN THE BUSINESS DATA"
   ]
  },
  {
   "cell_type": "code",
   "execution_count": 9,
   "metadata": {
    "collapsed": false,
    "deletable": true,
    "editable": true
   },
   "outputs": [],
   "source": [
    "\n",
    "my_file = \"bars_quebec.csv\"\n",
    "business_data=pd.read_csv(my_file,index_col='dates',usecols=['dates','Taverns'],parse_dates=True)\n",
    "business_data.columns=['bars']\n",
    "business_data=create_stats(business_data[[\"bars\"]],monthly_window)\n",
    "\n",
    "\n",
    "#converting from beginning of month to end of last month.\n",
    "#print(relativedelta(months=1))\n",
    "differenced_dates=business_data.index.date-relativedelta(months=1)\n",
    "business_data.index=pd.to_datetime(differenced_dates)\n",
    "\n",
    "business_data=business_data.resample(\"M\").sum()"
   ]
  },
  {
   "cell_type": "code",
   "execution_count": 10,
   "metadata": {
    "collapsed": false,
    "deletable": true,
    "editable": true
   },
   "outputs": [],
   "source": [
    "dates_in_common=np.intersect1d(monthly_hockey_data.index.values, business_data.index.values)\n"
   ]
  },
  {
   "cell_type": "code",
   "execution_count": 11,
   "metadata": {
    "collapsed": false,
    "deletable": true,
    "editable": true
   },
   "outputs": [],
   "source": [
    "        \n",
    "smaller_hockey_df=monthly_hockey_data.loc[dates_in_common,:]\n",
    "smaller_business_data=business_data.loc[dates_in_common,:]\n",
    "\n",
    "#THIS MIGHT LEAD TO BAD INFO\n",
    "#smaller_hockey_df.index=smaller_hockey_df.index\n"
   ]
  },
  {
   "cell_type": "code",
   "execution_count": null,
   "metadata": {
    "collapsed": true,
    "deletable": true,
    "editable": true
   },
   "outputs": [],
   "source": [
    "\n",
    "#something gets lost here\n",
    "merged_df=pd.concat([smaller_hockey_df,smaller_business_data],axis=1)\n",
    "\n"
   ]
  },
  {
   "cell_type": "code",
   "execution_count": null,
   "metadata": {
    "collapsed": false,
    "deletable": true,
    "editable": true
   },
   "outputs": [],
   "source": [
    "merged_df.head(10)"
   ]
  },
  {
   "cell_type": "code",
   "execution_count": null,
   "metadata": {
    "collapsed": false,
    "deletable": true,
    "editable": true
   },
   "outputs": [],
   "source": [
    "import seaborn as sns\n",
    "plt.rcParams['figure.figsize'] = (10, 6)\n",
    "\n",
    "sns.heatmap(merged_df.corr().abs())"
   ]
  },
  {
   "cell_type": "code",
   "execution_count": null,
   "metadata": {
    "collapsed": false,
    "deletable": true,
    "editable": true
   },
   "outputs": [],
   "source": [
    "np.array(merged_df.corr().abs())[-4:,:]\n"
   ]
  },
  {
   "cell_type": "code",
   "execution_count": null,
   "metadata": {
    "collapsed": true,
    "deletable": true,
    "editable": true
   },
   "outputs": [],
   "source": [
    "#create_stats()\n",
    "#merged_df.columns\n",
    "\n",
    "#Would need to integrate the extra data. \n",
    "\n",
    "#that whole time series thing\n",
    "\n",
    "\n",
    "\n",
    "\n"
   ]
  },
  {
   "cell_type": "markdown",
   "metadata": {
    "deletable": true,
    "editable": true
   },
   "source": [
    "A time series is said considered stationnary if:\n",
    "\n",
    "    constant mean\n",
    "    constant variance\n",
    "    autocovariance that does not depend on time"
   ]
  }
 ],
 "metadata": {
  "kernelspec": {
   "display_name": "Python 3",
   "language": "python",
   "name": "python3"
  },
  "language_info": {
   "codemirror_mode": {
    "name": "ipython",
    "version": 3
   },
   "file_extension": ".py",
   "mimetype": "text/x-python",
   "name": "python",
   "nbconvert_exporter": "python",
   "pygments_lexer": "ipython3",
   "version": "3.6.1rc1"
  }
 },
 "nbformat": 4,
 "nbformat_minor": 2
}
