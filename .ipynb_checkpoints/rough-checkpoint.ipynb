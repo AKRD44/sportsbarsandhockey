{
 "cells": [
  {
   "cell_type": "code",
   "execution_count": 3,
   "metadata": {
    "collapsed": false,
    "deletable": true,
    "editable": true
   },
   "outputs": [],
   "source": [
    "import numpy as np\n",
    "import pandas as pd\n",
    "import matplotlib\n",
    "%matplotlib inline \n",
    "\n",
    "y=pd.DataFrame(np.random.rand(10,1))\n",
    "\n",
    "y_dif=y-y.shift()\n"
   ]
  },
  {
   "cell_type": "code",
   "execution_count": 2,
   "metadata": {
    "collapsed": false,
    "deletable": true,
    "editable": true
   },
   "outputs": [],
   "source": [
    "#This is to put it back into its original measurement.\n",
    "def undo_differencing(original_y,prediction):\n",
    "\n",
    "    #MAKE SURE BOTH SERIES HAVE THEIR DATETIME INDEXES\n",
    "    original_y=pd.DataFrame(original_y)\n",
    "    prediction=pd.DataFrame(prediction)\n",
    "    \n",
    "    original_y=original_y.loc[prediction.index[0]:]\n",
    "    answer = pd.Series(original_y.iloc[0].values, index=original_y.index)   \n",
    "    \n",
    "    combined=pd.concat([answer,prediction.cumsum()],axis=1).fillna(0)\n",
    "    \n",
    "    combined=combined.sum(axis=1)\n",
    "    return combined\n"
   ]
  },
  {
   "cell_type": "code",
   "execution_count": null,
   "metadata": {
    "collapsed": true,
    "deletable": true,
    "editable": true
   },
   "outputs": [],
   "source": []
  }
 ],
 "metadata": {
  "kernelspec": {
   "display_name": "Python 3",
   "language": "python",
   "name": "python3"
  },
  "language_info": {
   "codemirror_mode": {
    "name": "ipython",
    "version": 3
   },
   "file_extension": ".py",
   "mimetype": "text/x-python",
   "name": "python",
   "nbconvert_exporter": "python",
   "pygments_lexer": "ipython3",
   "version": "3.6.1rc1"
  }
 },
 "nbformat": 4,
 "nbformat_minor": 2
}
